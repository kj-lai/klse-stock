{
 "cells": [
  {
   "cell_type": "markdown",
   "metadata": {},
   "source": [
    "Source: \n",
    "\n",
    "    [1] http://www.bursamalaysia.com/market/listed-companies/list-of-companies/main-market/\n",
    "    [2] https://www.morningstar.com/\n",
    "    [3] https://www.klsescreener.com/\n",
    "    [4] https://klse.i3investor.com/"
   ]
  },
  {
   "cell_type": "code",
   "execution_count": 1,
   "metadata": {},
   "outputs": [],
   "source": [
    "import numpy as np\n",
    "import pandas as pd\n",
    "import re, time, os\n",
    "from datetime import datetime, date\n",
    "from selenium import webdriver\n",
    "from selenium.webdriver.common.by import By\n",
    "from selenium.webdriver.common.keys import Keys\n",
    "from selenium.common.exceptions import TimeoutException\n",
    "# from time import time\n",
    "from tqdm import tqdm\n",
    "from glob import glob\n",
    "chromedriver = 'D://Workspace/selenium_driver/bin/chromedriver'\n",
    "out_dir = 'result_2023-05-21/'\n",
    "if not os.path.exists(out_dir):\n",
    "    os.makedirs(out_dir)"
   ]
  },
  {
   "cell_type": "code",
   "execution_count": null,
   "metadata": {
    "scrolled": true
   },
   "outputs": [],
   "source": [
    "stock_code = pd.read_csv(out_dir+'klse_00_stock_code.csv')\n",
    "data1_1 = pd.read_csv(out_dir+'klse_01a_latest_data.csv')\n",
    "\n",
    "# data1_1['code'] = data1_1['code'].astype(str).apply(lambda x: x.zfill(4))"
   ]
  },
  {
   "cell_type": "markdown",
   "metadata": {},
   "source": [
    "### Get all listed company names and stock codes from Bursa Malaysia"
   ]
  },
  {
   "cell_type": "code",
   "execution_count": 30,
   "metadata": {
    "scrolled": true
   },
   "outputs": [
    {
     "name": "stderr",
     "output_type": "stream",
     "text": [
      "100%|█████████████████████████████████████████████████████████████████████████████| 788/788 [00:08<00:00, 90.62it/s]\n",
      "100%|████████████████████████████████████████████████████████████████████████████| 163/163 [00:01<00:00, 100.72it/s]\n"
     ]
    }
   ],
   "source": [
    "options = webdriver.ChromeOptions()\n",
    "options.add_argument(\"--incognito\")\n",
    "driver = webdriver.Chrome(chromedriver, options=options)\n",
    "driver.switch_to.window(driver.current_window_handle)\n",
    "driver.maximize_window()\n",
    "driver.get('http://www.bursamalaysia.com/market/listed-companies/list-of-companies/main-market/')\n",
    "# driver.find_element_by_class_name('cc-btn').click()\n",
    "time.sleep(2)\n",
    "driver.execute_script(\"window.scrollTo(0, document.body.scrollHeight + 200);\")\n",
    "time.sleep(2)\n",
    "driver.find_element(By.CLASS_NAME,'custom-select').find_elements(By.TAG_NAME,'option')[-1].click()\n",
    "time.sleep(2)\n",
    "x = driver.find_elements(By.CLASS_NAME,'listed-company-table')[-1]\\\n",
    "          .find_element(By.TAG_NAME,'tbody')\\\n",
    "          .find_elements(By.CLASS_NAME,'company-announcement-link')\n",
    "\n",
    "code, name = [],[]\n",
    "for i in tqdm(x):\n",
    "    code.append(i.get_attribute('href').split('=')[-1])\n",
    "    name.append(i.get_attribute('innerText').strip())\n",
    "\n",
    "driver.execute_script(\"window.scrollTo(0, 0);\")\n",
    "time.sleep(2)\n",
    "# driver.get('https://www.bursamalaysia.com/trade/trading_resources/listing_directory/ace_market')\n",
    "driver.find_element(By.LINK_TEXT,'ACE Market').click()\n",
    "time.sleep(2)\n",
    "driver.execute_script(\"window.scrollTo(0, document.body.scrollHeight + 200);\")\n",
    "time.sleep(2)\n",
    "driver.find_element(By.CLASS_NAME,'custom-select').find_elements(By.TAG_NAME,'option')[-1].click()\n",
    "time.sleep(2)\n",
    "x = driver.find_elements(By.CLASS_NAME,'listed-company-table')[-1]\\\n",
    "          .find_element(By.TAG_NAME,'tbody')\\\n",
    "          .find_elements(By.CLASS_NAME,'company-announcement-link')\n",
    "\n",
    "for i in tqdm(x):\n",
    "    code.append(i.get_attribute('href').split('=')[-1])\n",
    "    name.append(i.get_attribute('innerText').strip())\n",
    "# driver.quit()"
   ]
  },
  {
   "cell_type": "code",
   "execution_count": 31,
   "metadata": {
    "scrolled": true
   },
   "outputs": [
    {
     "name": "stdout",
     "output_type": "stream",
     "text": [
      "(951, 2)\n"
     ]
    },
    {
     "data": {
      "text/html": [
       "<div>\n",
       "<style scoped>\n",
       "    .dataframe tbody tr th:only-of-type {\n",
       "        vertical-align: middle;\n",
       "    }\n",
       "\n",
       "    .dataframe tbody tr th {\n",
       "        vertical-align: top;\n",
       "    }\n",
       "\n",
       "    .dataframe thead th {\n",
       "        text-align: right;\n",
       "    }\n",
       "</style>\n",
       "<table border=\"1\" class=\"dataframe\">\n",
       "  <thead>\n",
       "    <tr style=\"text-align: right;\">\n",
       "      <th></th>\n",
       "      <th>code</th>\n",
       "      <th>name</th>\n",
       "    </tr>\n",
       "  </thead>\n",
       "  <tbody>\n",
       "    <tr>\n",
       "      <th>921</th>\n",
       "      <td>0001</td>\n",
       "      <td>SUPERCOMNET TECHNOLOGIES BERHAD</td>\n",
       "    </tr>\n",
       "  </tbody>\n",
       "</table>\n",
       "</div>"
      ],
      "text/plain": [
       "     code                             name\n",
       "921  0001  SUPERCOMNET TECHNOLOGIES BERHAD"
      ]
     },
     "execution_count": 31,
     "metadata": {},
     "output_type": "execute_result"
    }
   ],
   "source": [
    "stock_code = pd.DataFrame({'code':code,'name':name})\n",
    "idx1 = stock_code[stock_code.name == 'KLCC REAL ESTATE INVESTMENT TRUST'].index\n",
    "idx2 = stock_code[stock_code.name == 'KLCC PROPERTY HOLDINGS BERHAD'].index\n",
    "stock_code.loc[idx1, 'code'] = '5235SS'\n",
    "stock_code.drop(index=idx2, inplace=True)\n",
    "stock_code.sort_values('code', inplace=True)\n",
    "stock_code.reset_index(drop=True)\n",
    "print(stock_code.shape)\n",
    "stock_code.to_csv(out_dir+'klse_00_stock_code.csv', index=False)\n",
    "stock_code.head(1)"
   ]
  },
  {
   "cell_type": "markdown",
   "metadata": {},
   "source": [
    "### Stage 1"
   ]
  },
  {
   "cell_type": "code",
   "execution_count": 101,
   "metadata": {},
   "outputs": [],
   "source": [
    "def process_stage_1(stock_code):\n",
    "    # Get stock prices in 52 weeks range from KLSE Screener, which will be used in Stage 4\n",
    "    start_time = time.time()\n",
    "#     options = webdriver.ChromeOptions()\n",
    "#     options.add_argument(\"--incognito\")\n",
    "#     driver = webdriver.Chrome(chromedriver, options=options)\n",
    "#     driver.switch_to.window(driver.current_window_handle)\n",
    "#     driver.maximize_window()\n",
    "    error1, result1 = [],[]\n",
    "    for i in tqdm(stock_code.code):\n",
    "        try:\n",
    "            driver.get('https://www.klsescreener.com/v2/stocks/view/'+i)\n",
    "            time.sleep(1)\n",
    "            try:\n",
    "                cat = driver.find_element(By.XPATH,'//*[@id=\"page\"]/div[2]/div[1]/div[1]/div[1]/div[1]/div[1]/div[3]/span')\\\n",
    "                            .get_attribute('innerText')\\\n",
    "                            .split(' : ')[1]\n",
    "            except:\n",
    "                cat = 'UNKNOWN'\n",
    "            price  = driver.find_element(By.ID,'price')\\\n",
    "                           .get_attribute('innerText')\n",
    "            week52 = driver.find_element(By.XPATH,'//*[@id=\"page\"]/div[2]/div[1]/div[2]/div[1]/div/table[1]/tbody/tr[8]/td[2]')\\\n",
    "                           .get_attribute('innerText')\\\n",
    "                           .split(' - ')\n",
    "            roe    = driver.find_element(By.XPATH,'//*[@id=\"page\"]/div[2]/div[1]/div[2]/div[1]/div/table[1]/tbody/tr[9]/td[2]')\\\n",
    "                           .get_attribute('innerText')\\\n",
    "                           .replace(',','')\\\n",
    "                           .replace('-','')\n",
    "            roe    = float(roe) if roe else 0.0\n",
    "            pe     = driver.find_element(By.XPATH,'//*[@id=\"page\"]/div[2]/div[1]/div[2]/div[1]/div/table[1]/tbody/tr[10]/td[2]')\\\n",
    "                           .get_attribute('innerText')\\\n",
    "                           .replace(',','')\n",
    "            pe     = pe if pe else 0.0\n",
    "            eps    = driver.find_element(By.XPATH,'//*[@id=\"page\"]/div[2]/div[1]/div[2]/div[1]/div/table[1]/tbody/tr[11]/td[2]')\\\n",
    "                           .get_attribute('innerText')\\\n",
    "                           .replace(',','')\n",
    "            eps    = np.around(float(eps)/100, 2) if eps else 0.0\n",
    "            ey     = np.around(float(eps)/float(price)*100, 2)\n",
    "            dps    = driver.find_element(By.XPATH,'//*[@id=\"page\"]/div[2]/div[1]/div[2]/div[1]/div/table[1]/tbody/tr[12]/td[2]')\\\n",
    "                           .get_attribute('innerText')\n",
    "            dps    = np.around(float(dps)/100, 2) if dps else 0.0\n",
    "            dy     = driver.find_element(By.XPATH,'//*[@id=\"page\"]/div[2]/div[1]/div[2]/div[1]/div/table[1]/tbody/tr[13]/td[2]')\\\n",
    "                           .get_attribute('innerText')\\\n",
    "                           .replace('%','')\n",
    "            bvps   = driver.find_element(By.XPATH,'//*[@id=\"page\"]/div[2]/div[1]/div[2]/div[1]/div/table[1]/tbody/tr[14]/td[2]')\\\n",
    "                           .get_attribute('innerText')\\\n",
    "                           .replace('-','')\n",
    "            bvps   = float(bvps) if bvps else 0.0\n",
    "\n",
    "            result1.append([str(i).zfill(4), str(cat), float(price), float(week52[0]), float(week52[-1]), float(bvps),\n",
    "                            float(pe), float(eps), ey, float(dps), float(dy), float(roe)])\n",
    "        except Exception as e:\n",
    "            error1.append([str(i).zfill(4), type(e).__name__])\n",
    "#     driver.quit()\n",
    "    print('Time taken: ',time.time()-start_time)\n",
    "    data1 = pd.DataFrame(result1, columns=['code','category','Price','52w low','52w high','BVPS',\n",
    "                                           'P/E','EPS','EY','DPS','DY','ROE'])\n",
    "    er_df_1 = pd.DataFrame(error1, columns=['code','reason'])\n",
    "    return data1, er_df_1"
   ]
  },
  {
   "cell_type": "code",
   "execution_count": 76,
   "metadata": {
    "scrolled": true
   },
   "outputs": [
    {
     "name": "stderr",
     "output_type": "stream",
     "text": [
      "100%|█████████████████████████████████████████████████████████████████████████████| 951/951 [53:36<00:00,  3.38s/it]\n"
     ]
    },
    {
     "name": "stdout",
     "output_type": "stream",
     "text": [
      "Time taken:  3216.1088140010834\n",
      "(943, 12)\n"
     ]
    },
    {
     "data": {
      "text/html": [
       "<div>\n",
       "<style scoped>\n",
       "    .dataframe tbody tr th:only-of-type {\n",
       "        vertical-align: middle;\n",
       "    }\n",
       "\n",
       "    .dataframe tbody tr th {\n",
       "        vertical-align: top;\n",
       "    }\n",
       "\n",
       "    .dataframe thead th {\n",
       "        text-align: right;\n",
       "    }\n",
       "</style>\n",
       "<table border=\"1\" class=\"dataframe\">\n",
       "  <thead>\n",
       "    <tr style=\"text-align: right;\">\n",
       "      <th></th>\n",
       "      <th>code</th>\n",
       "      <th>category</th>\n",
       "      <th>Price</th>\n",
       "      <th>52w low</th>\n",
       "      <th>52w high</th>\n",
       "      <th>BVPS</th>\n",
       "      <th>P/E</th>\n",
       "      <th>EPS</th>\n",
       "      <th>EY</th>\n",
       "      <th>DPS</th>\n",
       "      <th>DY</th>\n",
       "      <th>ROE</th>\n",
       "    </tr>\n",
       "  </thead>\n",
       "  <tbody>\n",
       "    <tr>\n",
       "      <th>0</th>\n",
       "      <td>0001</td>\n",
       "      <td>Health Care Equipment &amp; Services</td>\n",
       "      <td>1.31</td>\n",
       "      <td>1.08</td>\n",
       "      <td>1.83</td>\n",
       "      <td>0.0</td>\n",
       "      <td>30.41</td>\n",
       "      <td>0.04</td>\n",
       "      <td>3.05</td>\n",
       "      <td>0.02</td>\n",
       "      <td>1.53</td>\n",
       "      <td>10.02</td>\n",
       "    </tr>\n",
       "  </tbody>\n",
       "</table>\n",
       "</div>"
      ],
      "text/plain": [
       "   code                          category  Price  52w low  52w high  BVPS   \n",
       "0  0001  Health Care Equipment & Services   1.31     1.08      1.83   0.0  \\\n",
       "\n",
       "     P/E   EPS    EY   DPS    DY    ROE  \n",
       "0  30.41  0.04  3.05  0.02  1.53  10.02  "
      ]
     },
     "metadata": {},
     "output_type": "display_data"
    },
    {
     "data": {
      "text/plain": [
       "reason\n",
       "ValueError    8\n",
       "Name: count, dtype: int64"
      ]
     },
     "metadata": {},
     "output_type": "display_data"
    },
    {
     "data": {
      "text/html": [
       "<div>\n",
       "<style scoped>\n",
       "    .dataframe tbody tr th:only-of-type {\n",
       "        vertical-align: middle;\n",
       "    }\n",
       "\n",
       "    .dataframe tbody tr th {\n",
       "        vertical-align: top;\n",
       "    }\n",
       "\n",
       "    .dataframe thead th {\n",
       "        text-align: right;\n",
       "    }\n",
       "</style>\n",
       "<table border=\"1\" class=\"dataframe\">\n",
       "  <thead>\n",
       "    <tr style=\"text-align: right;\">\n",
       "      <th></th>\n",
       "      <th>code</th>\n",
       "      <th>reason</th>\n",
       "    </tr>\n",
       "  </thead>\n",
       "  <tbody>\n",
       "    <tr>\n",
       "      <th>0</th>\n",
       "      <td>0064</td>\n",
       "      <td>ValueError</td>\n",
       "    </tr>\n",
       "    <tr>\n",
       "      <th>1</th>\n",
       "      <td>0111</td>\n",
       "      <td>ValueError</td>\n",
       "    </tr>\n",
       "    <tr>\n",
       "      <th>2</th>\n",
       "      <td>0271</td>\n",
       "      <td>ValueError</td>\n",
       "    </tr>\n",
       "    <tr>\n",
       "      <th>3</th>\n",
       "      <td>5238</td>\n",
       "      <td>ValueError</td>\n",
       "    </tr>\n",
       "    <tr>\n",
       "      <th>4</th>\n",
       "      <td>5247</td>\n",
       "      <td>ValueError</td>\n",
       "    </tr>\n",
       "    <tr>\n",
       "      <th>5</th>\n",
       "      <td>5622</td>\n",
       "      <td>ValueError</td>\n",
       "    </tr>\n",
       "    <tr>\n",
       "      <th>6</th>\n",
       "      <td>7016</td>\n",
       "      <td>ValueError</td>\n",
       "    </tr>\n",
       "    <tr>\n",
       "      <th>7</th>\n",
       "      <td>7053</td>\n",
       "      <td>ValueError</td>\n",
       "    </tr>\n",
       "  </tbody>\n",
       "</table>\n",
       "</div>"
      ],
      "text/plain": [
       "   code      reason\n",
       "0  0064  ValueError\n",
       "1  0111  ValueError\n",
       "2  0271  ValueError\n",
       "3  5238  ValueError\n",
       "4  5247  ValueError\n",
       "5  5622  ValueError\n",
       "6  7016  ValueError\n",
       "7  7053  ValueError"
      ]
     },
     "metadata": {},
     "output_type": "display_data"
    }
   ],
   "source": [
    "data1_1, er_df_1_1 = process_stage_1(stock_code)\n",
    "print(data1_1.shape)\n",
    "data1_1.to_csv(out_dir+'klse_01a_latest_data_part1.csv', index=False)\n",
    "display(data1_1.head(1))\n",
    "display(er_df_1_1.reason.value_counts())\n",
    "\n",
    "if len(er_df_1_1) != 0:\n",
    "    display(er_df_1_1)"
   ]
  },
  {
   "cell_type": "code",
   "execution_count": 111,
   "metadata": {
    "scrolled": true
   },
   "outputs": [
    {
     "name": "stdout",
     "output_type": "stream",
     "text": [
      "Total stock not in first batch: (8, 2)\n"
     ]
    },
    {
     "name": "stderr",
     "output_type": "stream",
     "text": [
      "100%|█████████████████████████████████████████████████████████████████████████████████| 8/8 [00:26<00:00,  3.26s/it]"
     ]
    },
    {
     "name": "stdout",
     "output_type": "stream",
     "text": [
      "Time taken:  26.04440426826477\n",
      "(8, 12)\n"
     ]
    },
    {
     "name": "stderr",
     "output_type": "stream",
     "text": [
      "\n"
     ]
    },
    {
     "data": {
      "text/html": [
       "<div>\n",
       "<style scoped>\n",
       "    .dataframe tbody tr th:only-of-type {\n",
       "        vertical-align: middle;\n",
       "    }\n",
       "\n",
       "    .dataframe tbody tr th {\n",
       "        vertical-align: top;\n",
       "    }\n",
       "\n",
       "    .dataframe thead th {\n",
       "        text-align: right;\n",
       "    }\n",
       "</style>\n",
       "<table border=\"1\" class=\"dataframe\">\n",
       "  <thead>\n",
       "    <tr style=\"text-align: right;\">\n",
       "      <th></th>\n",
       "      <th>code</th>\n",
       "      <th>category</th>\n",
       "      <th>Price</th>\n",
       "      <th>52w low</th>\n",
       "      <th>52w high</th>\n",
       "      <th>BVPS</th>\n",
       "      <th>P/E</th>\n",
       "      <th>EPS</th>\n",
       "      <th>EY</th>\n",
       "      <th>DPS</th>\n",
       "      <th>DY</th>\n",
       "      <th>ROE</th>\n",
       "    </tr>\n",
       "  </thead>\n",
       "  <tbody>\n",
       "    <tr>\n",
       "      <th>0</th>\n",
       "      <td>0064</td>\n",
       "      <td>Industrial Services</td>\n",
       "      <td>0.185</td>\n",
       "      <td>0.16</td>\n",
       "      <td>0.245</td>\n",
       "      <td>0.0</td>\n",
       "      <td>-3627.45</td>\n",
       "      <td>-0.0</td>\n",
       "      <td>-0.0</td>\n",
       "      <td>0.0</td>\n",
       "      <td>0.0</td>\n",
       "      <td>0.06</td>\n",
       "    </tr>\n",
       "  </tbody>\n",
       "</table>\n",
       "</div>"
      ],
      "text/plain": [
       "   code             category  Price  52w low  52w high  BVPS      P/E  EPS   \n",
       "0  0064  Industrial Services  0.185     0.16     0.245   0.0 -3627.45 -0.0  \\\n",
       "\n",
       "    EY  DPS   DY   ROE  \n",
       "0 -0.0  0.0  0.0  0.06  "
      ]
     },
     "metadata": {},
     "output_type": "display_data"
    },
    {
     "data": {
      "text/plain": [
       "Series([], Name: count, dtype: int64)"
      ]
     },
     "metadata": {},
     "output_type": "display_data"
    }
   ],
   "source": [
    "balance1_1 = stock_code[stock_code.code.isin(er_df_1_1.code)]\n",
    "print('Total stock not in first batch:',balance1_1.shape)\n",
    "\n",
    "data1_1_1, er_df_1_1_1 = process_stage_1(balance1_1)\n",
    "print(data1_1_1.shape)\n",
    "data1_1_1.to_csv(out_dir+'klse_01a_latest_data_part2.csv', index=False)\n",
    "display(data1_1_1.head(1))\n",
    "display(er_df_1_1_1.reason.value_counts())\n",
    "\n",
    "if len(er_df_1_1_1) != 0:\n",
    "    display(er_df_1_1_1)"
   ]
  },
  {
   "cell_type": "code",
   "execution_count": 137,
   "metadata": {
    "scrolled": true
   },
   "outputs": [
    {
     "name": "stdout",
     "output_type": "stream",
     "text": [
      "Total:\t (951, 12)\n",
      "Balance: (0, 2)\n"
     ]
    }
   ],
   "source": [
    "data1_1 = pd.concat([pd.read_csv(file) for file in glob(out_dir+'klse_01a_latest_data_part*')])\n",
    "data1_1.code = data1_1.code.apply(lambda x: str(x).zfill(4))\n",
    "print('Total:\\t',data1_1.shape)\n",
    "data1_1.to_csv(out_dir+'klse_01a_latest_data.csv', index=False)\n",
    "balance1_1 = stock_code[~stock_code.code.isin(data1_1.code)]\n",
    "print('Balance:',balance1_1.shape)"
   ]
  },
  {
   "cell_type": "code",
   "execution_count": 141,
   "metadata": {},
   "outputs": [
    {
     "name": "stdout",
     "output_type": "stream",
     "text": [
      "Filter by Category: (951, 12)\n"
     ]
    }
   ],
   "source": [
    "cat_list = ['Consumer Products & Services','Energy','Financial Services','Health Care','Industrial Products & Services',\n",
    "            'Real Estate Investment Trusts','Technology','Transportation & Logistics','Utilities']\n",
    "# data1_1 = data1_1[data1_1.category.isin(cat_list)]\n",
    "print('Filter by Category:',data1_1.shape)"
   ]
  },
  {
   "cell_type": "code",
   "execution_count": 140,
   "metadata": {},
   "outputs": [
    {
     "data": {
      "text/plain": [
       "array(['Agricultural Products', 'Auto Parts', 'Automotive', 'Banking',\n",
       "       'Building Materials', 'Chemicals', 'Closed End Fund',\n",
       "       'Construction', 'Consumer Services', 'Digital Services',\n",
       "       'Diversified Industrials', 'Electricity',\n",
       "       'Energy, Infrastructure, Equipment & Services', 'Food & Beverages',\n",
       "       'Gas, Water & Multi-Utilities', 'Health Care Equipment & Services',\n",
       "       'Health Care Providers', 'Houshold Goods',\n",
       "       'Industrial Engineering',\n",
       "       'Industrial Materials, Components & Equipment',\n",
       "       'Industrial Services', 'Insurance', 'Media', 'Metals',\n",
       "       'Oil & Gas Producers', 'Other Energy Resources',\n",
       "       'Other Financials', 'Packaging Materials', 'Personal Goods',\n",
       "       'Pharmaceuticals', 'Plantation', 'Property',\n",
       "       'Real Estate Investment Trusts', 'Retailers', 'Semiconductors',\n",
       "       'Software', 'Special Purpose Acquisition Company',\n",
       "       'Technology Equipment', 'Telecommunications Equipment',\n",
       "       'Telecommunications Service Providers',\n",
       "       'Transportation & Logistics Services', 'Transportation Equipment',\n",
       "       'Travel, Leisure & Hospitality', 'Wood & Wood Products'],\n",
       "      dtype=object)"
      ]
     },
     "execution_count": 140,
     "metadata": {},
     "output_type": "execute_result"
    }
   ],
   "source": [
    "np.sort(data1_1.category.unique())"
   ]
  },
  {
   "cell_type": "markdown",
   "metadata": {},
   "source": [
    "### Stage 2"
   ]
  },
  {
   "cell_type": "markdown",
   "metadata": {},
   "source": [
    "Earning Yield Level:\n",
    "    - 5  PE <=6.67    EY >=15%         DY >=3%\n",
    "    - 4  PE >6.67-10  EY 10%-<15%      DY 2.5%-<3%\n",
    "    - 3  PE >10-20    EY 5%-<10%       DY 2%-<2.5%\n",
    "    - 2  PE >20-30    EY 3.33%-<5%     DY 1.5%-<2%\n",
    "    - 1  PE >30-40    EY 2.5%-<3.33%   DY 1%-<1.5%\n",
    "    - 0  PE >4        EY <2.5%         DY <1%"
   ]
  },
  {
   "cell_type": "code",
   "execution_count": null,
   "metadata": {},
   "outputs": [],
   "source": []
  },
  {
   "cell_type": "code",
   "execution_count": null,
   "metadata": {},
   "outputs": [],
   "source": []
  },
  {
   "cell_type": "code",
   "execution_count": null,
   "metadata": {},
   "outputs": [],
   "source": []
  }
 ],
 "metadata": {
  "kernelspec": {
   "display_name": "Python 3 (ipykernel)",
   "language": "python",
   "name": "python3"
  },
  "language_info": {
   "codemirror_mode": {
    "name": "ipython",
    "version": 3
   },
   "file_extension": ".py",
   "mimetype": "text/x-python",
   "name": "python",
   "nbconvert_exporter": "python",
   "pygments_lexer": "ipython3",
   "version": "3.10.6"
  }
 },
 "nbformat": 4,
 "nbformat_minor": 4
}
