{
 "cells": [
  {
   "cell_type": "markdown",
   "metadata": {},
   "source": [
    "Source: \n",
    "\n",
    "    [1] http://www.bursamalaysia.com/market/listed-companies/list-of-companies/main-market/\n",
    "    [2] https://www.morningstar.com/\n",
    "    [3] https://www.klsescreener.com/\n",
    "    [4] https://klse.i3investor.com/"
   ]
  },
  {
   "cell_type": "code",
   "execution_count": 1,
   "metadata": {},
   "outputs": [],
   "source": [
    "import numpy as np\n",
    "import pandas as pd\n",
    "import re, time, os\n",
    "from datetime import datetime, date\n",
    "from selenium import webdriver\n",
    "from selenium.webdriver.common.keys import Keys\n",
    "from selenium.common.exceptions import TimeoutException\n",
    "# from time import time\n",
    "from tqdm import tqdm\n",
    "from glob import glob\n",
    "chromedriver = 'D://Workspace/selenium_driver/bin/chromedriver'\n",
    "out_dir = 'result_2021-04-16/'\n",
    "if not os.path.exists(out_dir):\n",
    "    os.makedirs(out_dir)"
   ]
  },
  {
   "cell_type": "code",
   "execution_count": 3,
   "metadata": {},
   "outputs": [],
   "source": [
    "# stock_code = pd.read_csv(out_dir+'klse_00_stock_code.csv')\n",
    "# data1_1 = pd.read_csv(out_dir+'klse_01a_latest_data.csv')\n",
    "# data1_2 = pd.read_csv(out_dir+'klse_01b_latest_data.csv')\n",
    "# data1 = pd.read_csv(out_dir+'klse_01_latest_data.csv')\n",
    "# data2 = pd.read_csv(out_dir+'klse_02_10yr_data.csv')\n",
    "# data3 = pd.read_csv(out_dir+'klse_03_stage_3.csv')\n",
    "# data4 = pd.read_csv(out_dir+'klse_04_intrinsic.csv')\n",
    "# data5 = pd.read_csv(out_dir+'klse_05_3G2H_score_with_valuation.csv')\n",
    "# final = pd.read_csv(out_dir+'klse_06_final_table.csv')\n",
    "\n",
    "# data1_1['code'] = data1_1['code'].astype(str).apply(lambda x: x.zfill(4))\n",
    "# data1_2['code'] = data1_2['code'].astype(str).apply(lambda x: x.zfill(4))\n",
    "# data1['code'] = data1['code'].astype(str).apply(lambda x: x.zfill(4))\n",
    "# data2['code'] = data2['code'].astype(str).apply(lambda x: x.zfill(4))\n",
    "# data3['code'] = data3['code'].astype(str).apply(lambda x: x.zfill(4))\n",
    "# data4['code'] = data4['code'].astype(str).apply(lambda x: x.zfill(4))\n",
    "# data5['code'] = data5['code'].astype(str).apply(lambda x: x.zfill(4))\n",
    "# final['code'] = final['code'].astype(str).apply(lambda x: x.zfill(4))"
   ]
  },
  {
   "cell_type": "markdown",
   "metadata": {},
   "source": [
    "### Get all listed company names and stock codes from Bursa Malaysia"
   ]
  },
  {
   "cell_type": "code",
   "execution_count": 2,
   "metadata": {
    "scrolled": true
   },
   "outputs": [
    {
     "name": "stderr",
     "output_type": "stream",
     "text": [
      "100%|█████████████████████████████████████████████████████████████████████████████| 781/781 [00:08<00:00, 92.01it/s]\n",
      "100%|████████████████████████████████████████████████████████████████████████████| 135/135 [00:01<00:00, 110.45it/s]\n"
     ]
    }
   ],
   "source": [
    "options = webdriver.ChromeOptions()\n",
    "options.add_argument(\"--incognito\")\n",
    "driver = webdriver.Chrome(chromedriver, options=options)\n",
    "driver.switch_to.window(driver.current_window_handle)\n",
    "driver.maximize_window()\n",
    "driver.get('http://www.bursamalaysia.com/market/listed-companies/list-of-companies/main-market/')\n",
    "driver.find_element_by_class_name('cc-btn').click()\n",
    "time.sleep(2)\n",
    "driver.execute_script(\"window.scrollTo(0, document.body.scrollHeight + 200);\")\n",
    "time.sleep(2)\n",
    "driver.find_element_by_class_name('custom-select').click()\n",
    "driver.find_element_by_class_name('custom-select').find_elements_by_tag_name('option')[-1].click()\n",
    "time.sleep(2)\n",
    "x = driver.find_elements_by_class_name('listed-company-table')[-1]\\\n",
    "          .find_element_by_tag_name('tbody')\\\n",
    "          .find_elements_by_class_name('company-announcement-link')\n",
    "\n",
    "code, name = [],[]\n",
    "for i in tqdm(x):\n",
    "    code.append(i.get_attribute('href').split('=')[-1])\n",
    "    name.append(i.get_attribute('innerText').strip())\n",
    "    \n",
    "driver.get('https://www.bursamalaysia.com/trade/trading_resources/listing_directory/ace_market')\n",
    "time.sleep(2)\n",
    "driver.execute_script(\"window.scrollTo(0, document.body.scrollHeight + 200);\")\n",
    "time.sleep(2)\n",
    "driver.find_element_by_class_name('custom-select').click()\n",
    "driver.find_element_by_class_name('custom-select').find_elements_by_tag_name('option')[-1].click()\n",
    "time.sleep(2)\n",
    "x = driver.find_elements_by_class_name('listed-company-table')[-1]\\\n",
    "          .find_element_by_tag_name('tbody')\\\n",
    "          .find_elements_by_class_name('company-announcement-link')\n",
    "\n",
    "for i in tqdm(x):\n",
    "    code.append(i.get_attribute('href').split('=')[-1])\n",
    "    name.append(i.get_attribute('innerText').strip())\n",
    "# driver.quit()"
   ]
  },
  {
   "cell_type": "code",
   "execution_count": 3,
   "metadata": {
    "scrolled": true
   },
   "outputs": [
    {
     "name": "stdout",
     "output_type": "stream",
     "text": [
      "(916, 2)\n"
     ]
    },
    {
     "data": {
      "text/html": [
       "<div>\n",
       "<style scoped>\n",
       "    .dataframe tbody tr th:only-of-type {\n",
       "        vertical-align: middle;\n",
       "    }\n",
       "\n",
       "    .dataframe tbody tr th {\n",
       "        vertical-align: top;\n",
       "    }\n",
       "\n",
       "    .dataframe thead th {\n",
       "        text-align: right;\n",
       "    }\n",
       "</style>\n",
       "<table border=\"1\" class=\"dataframe\">\n",
       "  <thead>\n",
       "    <tr style=\"text-align: right;\">\n",
       "      <th></th>\n",
       "      <th>code</th>\n",
       "      <th>name</th>\n",
       "    </tr>\n",
       "  </thead>\n",
       "  <tbody>\n",
       "    <tr>\n",
       "      <th>897</th>\n",
       "      <td>0001</td>\n",
       "      <td>SUPERCOMNET TECHNOLOGIES BERHAD</td>\n",
       "    </tr>\n",
       "  </tbody>\n",
       "</table>\n",
       "</div>"
      ],
      "text/plain": [
       "     code                             name\n",
       "897  0001  SUPERCOMNET TECHNOLOGIES BERHAD"
      ]
     },
     "execution_count": 3,
     "metadata": {},
     "output_type": "execute_result"
    }
   ],
   "source": [
    "stock_code = pd.DataFrame({'code':code,'name':name})\n",
    "idx1 = stock_code[stock_code.name == 'KLCC REAL ESTATE INVESTMENT TRUST'].index\n",
    "idx2 = stock_code[stock_code.name == 'KLCC PROPERTY HOLDINGS BERHAD'].index\n",
    "stock_code.loc[idx1, 'code'] = '5235SS'\n",
    "stock_code.drop(index=idx2, inplace=True)\n",
    "stock_code.sort_values('code', inplace=True)\n",
    "stock_code.reset_index(drop=True)\n",
    "print(stock_code.shape)\n",
    "stock_code.to_csv(out_dir+'klse_00_stock_code.csv', index=False)\n",
    "stock_code.head(1)"
   ]
  },
  {
   "cell_type": "code",
   "execution_count": 4,
   "metadata": {},
   "outputs": [
    {
     "name": "stdout",
     "output_type": "stream",
     "text": [
      "(54, 2)\n"
     ]
    },
    {
     "data": {
      "text/html": [
       "<div>\n",
       "<style scoped>\n",
       "    .dataframe tbody tr th:only-of-type {\n",
       "        vertical-align: middle;\n",
       "    }\n",
       "\n",
       "    .dataframe tbody tr th {\n",
       "        vertical-align: top;\n",
       "    }\n",
       "\n",
       "    .dataframe thead th {\n",
       "        text-align: right;\n",
       "    }\n",
       "</style>\n",
       "<table border=\"1\" class=\"dataframe\">\n",
       "  <thead>\n",
       "    <tr style=\"text-align: right;\">\n",
       "      <th></th>\n",
       "      <th>code</th>\n",
       "      <th>name</th>\n",
       "    </tr>\n",
       "  </thead>\n",
       "  <tbody>\n",
       "    <tr>\n",
       "      <th>0</th>\n",
       "      <td>5099</td>\n",
       "      <td>AIRASIA GROUP BERHAD</td>\n",
       "    </tr>\n",
       "  </tbody>\n",
       "</table>\n",
       "</div>"
      ],
      "text/plain": [
       "   code                  name\n",
       "0  5099  AIRASIA GROUP BERHAD"
      ]
     },
     "execution_count": 4,
     "metadata": {},
     "output_type": "execute_result"
    }
   ],
   "source": [
    "short_list =  pd.read_csv('klse_stock_list.csv')\n",
    "short_list = pd.merge(short_list, stock_code, 'left')\n",
    "print(short_list.shape)\n",
    "short_list.head(1)"
   ]
  },
  {
   "cell_type": "markdown",
   "metadata": {},
   "source": [
    "### Stage 1 & 2"
   ]
  },
  {
   "cell_type": "code",
   "execution_count": 5,
   "metadata": {},
   "outputs": [],
   "source": [
    "def process_stage_1(stock_code):\n",
    "    # Get stock prices in 52 weeks range from KLSE Screener, which will be used in Stage 4\n",
    "    start_time = time.time()\n",
    "#     options = webdriver.ChromeOptions()\n",
    "#     options.add_argument(\"--incognito\")\n",
    "#     driver = webdriver.Chrome(chromedriver, options=options)\n",
    "#     driver.switch_to.window(driver.current_window_handle)\n",
    "#     driver.maximize_window()\n",
    "    error1, result1 = [],[]\n",
    "    for i in tqdm(stock_code.code):\n",
    "        try:\n",
    "            driver.get('https://www.klsescreener.com/v2/stocks/view/'+i)\n",
    "            time.sleep(1)\n",
    "            try:\n",
    "                cat= driver.find_element_by_xpath('//*[@id=\"page\"]/div[2]/div[1]/div[2]/div[1]/span[2]')\\\n",
    "                           .get_attribute('innerText')\\\n",
    "                           .split(' - ')[0]\n",
    "            except:\n",
    "                cat= 'UNKNOWN'\n",
    "            price  = driver.find_element_by_id('price')\\\n",
    "                           .get_attribute('innerText')\n",
    "            week52 = driver.find_element_by_xpath('//*[@id=\"page\"]/div[2]/div[1]/div[2]/div[1]/div/table[1]/tbody/tr[7]/td[2]')\\\n",
    "                           .get_attribute('innerText')\\\n",
    "                           .split(' - ')\n",
    "            roe    = driver.find_element_by_xpath('//*[@id=\"page\"]/div[2]/div[1]/div[2]/div[1]/div/table[1]/tbody/tr[8]/td[2]')\\\n",
    "                           .get_attribute('innerText')\\\n",
    "                           .replace(',','')\n",
    "            pe     = driver.find_element_by_xpath('//*[@id=\"page\"]/div[2]/div[1]/div[2]/div[1]/div/table[1]/tbody/tr[9]/td[2]')\\\n",
    "                           .get_attribute('innerText')\n",
    "            eps    = driver.find_element_by_xpath('//*[@id=\"page\"]/div[2]/div[1]/div[2]/div[1]/div/table[1]/tbody/tr[10]/td[2]')\\\n",
    "                           .get_attribute('innerText')\n",
    "            eps    = np.around(float(eps)/100, 2)\n",
    "            ey     = np.around(eps/float(price)*100, 2)\n",
    "            dps    = driver.find_element_by_xpath('//*[@id=\"page\"]/div[2]/div[1]/div[2]/div[1]/div/table[1]/tbody/tr[11]/td[2]')\\\n",
    "                           .get_attribute('innerText')\n",
    "            dps    = np.around(float(dps)/100, 2)\n",
    "            dy     = driver.find_element_by_xpath('//*[@id=\"page\"]/div[2]/div[1]/div[2]/div[1]/div/table[1]/tbody/tr[12]/td[2]')\\\n",
    "                           .get_attribute('innerText')\\\n",
    "                           .replace('%','')\n",
    "            bvps   = driver.find_element_by_xpath('//*[@id=\"page\"]/div[2]/div[1]/div[2]/div[1]/div/table[1]/tbody/tr[14]/td[2]')\\\n",
    "                           .get_attribute('innerText')\n",
    "            if bvps=='-':\n",
    "                bvps = 0.0\n",
    "#             cap    = driver.find_element_by_xpath('//*[@id=\"page\"]/div[2]/div[1]/div[2]/div[1]/div/table[1]/tbody/tr[18]/td[2]')\\\n",
    "#                            .get_attribute('innerText')\n",
    "\n",
    "            if len(roe)==0:\n",
    "                roe = 0.0\n",
    "\n",
    "            result1.append([str(i).zfill(4), str(cat), float(price), float(week52[0]), float(week52[-1]), float(bvps),\n",
    "                            float(pe), float(eps), ey, float(dps), float(dy), float(roe)])\n",
    "        except Exception as e:\n",
    "            error1.append([str(i).zfill(4), type(e).__name__])\n",
    "#     driver.quit()\n",
    "    print('Time taken: ',time.time()-start_time)\n",
    "    data1 = pd.DataFrame(result1, columns=['code','category','Price','52w low','52w high','BVPS',\n",
    "                                           'P/E','EPS','EY','DPS','DY','ROE'])\n",
    "    er_df_1 = pd.DataFrame(error1, columns=['code','reason'])\n",
    "    return data1, er_df_1"
   ]
  },
  {
   "cell_type": "code",
   "execution_count": 19,
   "metadata": {},
   "outputs": [],
   "source": [
    "def process_stage_2(balance, offset=0):\n",
    "    start_time = time.time()\n",
    "#     options = webdriver.ChromeOptions()\n",
    "#     options.add_argument(\"--incognito\")\n",
    "#     driver = webdriver.Chrome(chromedriver, options=options)\n",
    "#     driver.switch_to.window(driver.current_window_handle)\n",
    "#     driver.maximize_window()\n",
    "    symbol = ['—']\n",
    "    \n",
    "    driver.get('https://financials.morningstar.com/ratios/r.html?t=5398&culture=en&platform=sal&region=mys')\n",
    "    time.sleep(2)\n",
    "    driver.find_element_by_xpath('//*[@id=\"orderType\"]').click()\n",
    "    driver.find_element_by_xpath('//*[@id=\"Li2\"]/ul/li[2]/a').click()\n",
    "#     driver.execute_script('''window.open(\"\",\"_blank\");''')    \n",
    "#     driver.switch_to.window(driver.window_handles[0])\n",
    "\n",
    "    size  = 50\n",
    "    batch = int(np.ceil(len(balance)/size))\n",
    "    error1_2, error2 = [], []\n",
    "    for b in range(batch):\n",
    "        result1_2, data2 = [], pd.DataFrame()\n",
    "        time.sleep(1)\n",
    "        for i in tqdm(balance[b*size:(b+1)*size].code):\n",
    "            try:\n",
    "                driver.get('https://financials.morningstar.com/ratios/r.html?t='+str(i)+'&culture=en&platform=sal&region=mys')\n",
    "                time.sleep(2)\n",
    "                year_end = [str(i), 'Year End'] + driver.find_element_by_id('financials').find_element_by_tag_name('thead')\\\n",
    "                                                        .get_attribute('innerText').split('\\n')[0].split('\\t')[1:]\n",
    "                assert len(year_end) == 13, 'Number of year mismatch'\n",
    "\n",
    "                table_1 = driver.find_element_by_id('financials').find_element_by_tag_name('tbody')\\\n",
    "                                .find_elements_by_tag_name('tr')[1::2]\n",
    "\n",
    "                revenue    = [str(i), 'Revenue'] + table_1[0].get_attribute('innerText').split('\\t')[1:]\n",
    "                net_profit = [str(i), 'NP'] + table_1[4].get_attribute('innerText').split('\\t')[1:]\n",
    "                eps        = [str(i), 'EPS'] + table_1[5].get_attribute('innerText').split('\\t')[1:]\n",
    "                dps        = [str(i), 'DPS'] + table_1[6].get_attribute('innerText').split('\\t')[1:]\n",
    "                div_payout = [str(i), 'Div Payout'] + table_1[7].get_attribute('innerText').split('\\t')[1:]\n",
    "                shares     = [str(i), 'Shares'] + table_1[8].get_attribute('innerText').split('\\t')[1:]\n",
    "                bvps        = [str(i), 'BVPS'] + table_1[9].get_attribute('innerText').split('\\t')[1:]\n",
    "                ocf        = [str(i), 'OCF'] + table_1[10].get_attribute('innerText').split('\\t')[1:]\n",
    "                fcf        = [str(i), 'FCF'] + table_1[12].get_attribute('innerText').split('\\t')[1:]\n",
    "\n",
    "                tabs = driver.find_element_by_class_name('in_tabs').find_elements_by_tag_name('li')\n",
    "\n",
    "                tabs[0].click()\n",
    "                table_2 = driver.find_element_by_id('tab-profitability').find_elements_by_tag_name('table')[-1]\\\n",
    "                                .find_element_by_tag_name('tbody').find_elements_by_tag_name('tr')[1::2]\n",
    "\n",
    "                np_margin  = [str(i), 'NP Margin'] + table_2[1].get_attribute('innerText').split('\\t')[1:]\n",
    "                temp       = table_2[5].get_attribute('innerText').split('\\t')\n",
    "                roe        = [str(i), 'ROE'] + temp[1:]\n",
    "    #             roe_last   = temp[1].replace(',','') if temp[1] not in symbol else 0.0\n",
    "                roe_last2  = temp[2].replace(',','') if temp[2] not in symbol else 0.0\n",
    "\n",
    "                tabs[1].click()\n",
    "                table_3 = driver.find_element_by_id('tab-growth').find_element_by_tag_name('table')\\\n",
    "                                .find_element_by_tag_name('tbody').find_elements_by_tag_name('tr')[1::2]\n",
    "\n",
    "                rev_gr_yoy     = [str(i), 'Revenue GR'] + table_3[1].get_attribute('innerText').split('\\t')[1:]\n",
    "                rev_gr_3y_avg  = [str(i), 'Revenue GR 3Y avg'] + table_3[2].get_attribute('innerText').split('\\t')[1:]\n",
    "                rev_gr_5y_avg  = [str(i), 'Revenue GR 5Y avg'] + table_3[3].get_attribute('innerText').split('\\t')[1:]\n",
    "                rev_gr_10y_avg = [str(i), 'Revenue GR 10Y avg'] + table_3[4].get_attribute('innerText').split('\\t')[1:]\n",
    "\n",
    "                np_gr_yoy      = [str(i), 'NP GR'] + table_3[-8].get_attribute('innerText').split('\\t')[1:]\n",
    "                np_gr_3y_avg   = [str(i), 'NP GR 3Y avg'] + table_3[-7].get_attribute('innerText').split('\\t')[1:]\n",
    "                np_gr_5y_avg   = [str(i), 'NP GR 5Y avg'] + table_3[-6].get_attribute('innerText').split('\\t')[1:]\n",
    "                np_gr_10y_avg  = [str(i), 'NP GR 10Y avg'] + table_3[-5].get_attribute('innerText').split('\\t')[1:]\n",
    "                \n",
    "                eps_gr_yoy     = [str(i), 'EPS GR'] + table_3[-4].get_attribute('innerText').split('\\t')[1:]\n",
    "                eps_gr_3y_avg  = [str(i), 'EPS GR 3Y avg'] + table_3[-3].get_attribute('innerText').split('\\t')[1:]\n",
    "                eps_gr_5y_avg  = [str(i), 'EPS GR 5Y avg'] + table_3[-2].get_attribute('innerText').split('\\t')[1:]\n",
    "                eps_gr_10y_avg = [str(i), 'EPS GR 10Y avg'] + table_3[-1].get_attribute('innerText').split('\\t')[1:]\n",
    "\n",
    "                tabs[2].click()\n",
    "                table_4 = driver.find_element_by_id('tab-cashflow').find_element_by_tag_name('table')\\\n",
    "                                .find_element_by_tag_name('tbody').find_elements_by_tag_name('tr')[1::2]\n",
    "\n",
    "                ocf_gr_yoy = [str(i), 'OCF GR'] + table_4[0].get_attribute('innerText').split('\\t')[1:]\n",
    "                fcf_gr_yoy = [str(i), 'FCF GR'] + table_4[1].get_attribute('innerText').split('\\t')[1:]\n",
    "\n",
    "                tabs[3].click()\n",
    "                table_5 = driver.find_element_by_id('tab-financial').find_elements_by_tag_name('table')[-1]\\\n",
    "                                .find_element_by_tag_name('tbody').find_elements_by_tag_name('tr')[1::2]\n",
    "\n",
    "                temp       = table_5[-1].get_attribute('innerText').split('\\t')\n",
    "                de         = [str(i), 'D/E'] + temp[1:]\n",
    "                de_last    = temp[1].replace(',','') if temp[1] not in symbol else 0.0\n",
    "                de_last2   = temp[2].replace(',','') if temp[2] not in symbol else 0.0\n",
    "\n",
    "                try:\n",
    "                    driver.get('https://klse.i3investor.com/servlets/stk/fin/'+str(i)+'.jsp?type=last10fy')\n",
    "                    time.sleep(2)\n",
    "                    x = driver.find_elements_by_tag_name('table')[13].find_elements_by_tag_name('tr')\n",
    "                    if len(x) != 119:\n",
    "                        x = driver.find_elements_by_tag_name('table')[14].find_elements_by_tag_name('tr')\n",
    "                    price  = [str(i), 'Price'] + [x.get_attribute('innerText') for x in x[84].find_elements_by_tag_name('td')[2:-1]]\n",
    "                except Exception as e:\n",
    "                    error1_2.append([str(i), type(e).__name__])\n",
    "\n",
    "                if len(price) != 0:\n",
    "                    result1_2.append([str(i).zfill(4), roe_last2, de_last, de_last2])\n",
    "                    temp_data  = [year_end, revenue, net_profit, eps, dps, div_payout, shares, bvps, ocf, fcf,\n",
    "                                  np_margin, roe, rev_gr_yoy, rev_gr_3y_avg, rev_gr_5y_avg, rev_gr_10y_avg, \n",
    "                                  np_gr_yoy, np_gr_3y_avg, np_gr_5y_avg, np_gr_10y_avg,\n",
    "                                  eps_gr_yoy, eps_gr_3y_avg, eps_gr_5y_avg, eps_gr_10y_avg, \n",
    "                                  ocf_gr_yoy, fcf_gr_yoy, de, price]\n",
    "                    data2      = pd.concat([data2, pd.DataFrame(temp_data)])\n",
    "            except Exception as e:\n",
    "                error2.append([i, type(e).__name__])\n",
    "                \n",
    "        data1_2 = pd.DataFrame(result1_2, columns=['code','ROE2','D/E','D/E2'])\n",
    "        data2.columns = ['code','detail','TTM','Y1','Y2','Y3','Y4','Y5','Y6','Y7','Y8','Y9','Y10']\n",
    "        data2.fillna(0.0, inplace=True)\n",
    "        \n",
    "        data1_2.to_csv('temp_data/data1_2_part'+str(b+offset).zfill(2)+'.csv', index=False)\n",
    "        data2.to_csv('temp_data/data2_part'+str(b+offset).zfill(2)+'.csv', index=False)        \n",
    "#         result1_2, data2 = [], pd.DataFrame()\n",
    "        \n",
    "#     driver.quit()\n",
    "    print('Time taken: ',time.time()-start_time)\n",
    "    \n",
    "    er_df_1 = pd.DataFrame(error1_2, columns=['code','reason'])\n",
    "    er_df_2 = pd.DataFrame(error2, columns=['code','reason'])\n",
    "    \n",
    "    return er_df_1, er_df_2"
   ]
  },
  {
   "cell_type": "code",
   "execution_count": 7,
   "metadata": {},
   "outputs": [
    {
     "name": "stderr",
     "output_type": "stream",
     "text": [
      "100%|█████████████████████████████████████████████████████████████████████████████| 916/916 [33:47<00:00,  2.21s/it]\n"
     ]
    },
    {
     "name": "stdout",
     "output_type": "stream",
     "text": [
      "Time taken:  2027.5821766853333\n",
      "(915, 12)\n"
     ]
    },
    {
     "data": {
      "text/html": [
       "<div>\n",
       "<style scoped>\n",
       "    .dataframe tbody tr th:only-of-type {\n",
       "        vertical-align: middle;\n",
       "    }\n",
       "\n",
       "    .dataframe tbody tr th {\n",
       "        vertical-align: top;\n",
       "    }\n",
       "\n",
       "    .dataframe thead th {\n",
       "        text-align: right;\n",
       "    }\n",
       "</style>\n",
       "<table border=\"1\" class=\"dataframe\">\n",
       "  <thead>\n",
       "    <tr style=\"text-align: right;\">\n",
       "      <th></th>\n",
       "      <th>code</th>\n",
       "      <th>category</th>\n",
       "      <th>Price</th>\n",
       "      <th>52w low</th>\n",
       "      <th>52w high</th>\n",
       "      <th>BVPS</th>\n",
       "      <th>P/E</th>\n",
       "      <th>EPS</th>\n",
       "      <th>EY</th>\n",
       "      <th>DPS</th>\n",
       "      <th>DY</th>\n",
       "      <th>ROE</th>\n",
       "    </tr>\n",
       "  </thead>\n",
       "  <tbody>\n",
       "    <tr>\n",
       "      <th>0</th>\n",
       "      <td>0001</td>\n",
       "      <td>Health Care</td>\n",
       "      <td>1.97</td>\n",
       "      <td>0.314</td>\n",
       "      <td>2.38</td>\n",
       "      <td>0.3398</td>\n",
       "      <td>68.0</td>\n",
       "      <td>0.03</td>\n",
       "      <td>1.52</td>\n",
       "      <td>0.02</td>\n",
       "      <td>0.76</td>\n",
       "      <td>8.59</td>\n",
       "    </tr>\n",
       "  </tbody>\n",
       "</table>\n",
       "</div>"
      ],
      "text/plain": [
       "   code     category  Price  52w low  52w high    BVPS   P/E   EPS    EY  \\\n",
       "0  0001  Health Care   1.97    0.314      2.38  0.3398  68.0  0.03  1.52   \n",
       "\n",
       "    DPS    DY   ROE  \n",
       "0  0.02  0.76  8.59  "
      ]
     },
     "metadata": {},
     "output_type": "display_data"
    },
    {
     "data": {
      "text/plain": [
       "NoSuchElementException    1\n",
       "Name: reason, dtype: int64"
      ]
     },
     "metadata": {},
     "output_type": "display_data"
    },
    {
     "data": {
      "text/html": [
       "<div>\n",
       "<style scoped>\n",
       "    .dataframe tbody tr th:only-of-type {\n",
       "        vertical-align: middle;\n",
       "    }\n",
       "\n",
       "    .dataframe tbody tr th {\n",
       "        vertical-align: top;\n",
       "    }\n",
       "\n",
       "    .dataframe thead th {\n",
       "        text-align: right;\n",
       "    }\n",
       "</style>\n",
       "<table border=\"1\" class=\"dataframe\">\n",
       "  <thead>\n",
       "    <tr style=\"text-align: right;\">\n",
       "      <th></th>\n",
       "      <th>code</th>\n",
       "      <th>reason</th>\n",
       "    </tr>\n",
       "  </thead>\n",
       "  <tbody>\n",
       "    <tr>\n",
       "      <th>0</th>\n",
       "      <td>0152</td>\n",
       "      <td>NoSuchElementException</td>\n",
       "    </tr>\n",
       "  </tbody>\n",
       "</table>\n",
       "</div>"
      ],
      "text/plain": [
       "   code                  reason\n",
       "0  0152  NoSuchElementException"
      ]
     },
     "metadata": {},
     "output_type": "display_data"
    }
   ],
   "source": [
    "# data1_1, er_df_1_1 = process_stage_1(short_list)\n",
    "data1_1, er_df_1_1 = process_stage_1(stock_code)\n",
    "print(data1_1.shape)\n",
    "data1_1.to_csv(out_dir+'klse_01a_latest_data.csv', index=False)\n",
    "display(data1_1.head(1))\n",
    "display(er_df_1_1.reason.value_counts())\n",
    "\n",
    "if len(er_df_1_1) != 0:\n",
    "    display(er_df_1_1)"
   ]
  },
  {
   "cell_type": "code",
   "execution_count": 8,
   "metadata": {
    "scrolled": false
   },
   "outputs": [
    {
     "name": "stdout",
     "output_type": "stream",
     "text": [
      "(1, 2)\n"
     ]
    }
   ],
   "source": [
    "balance1_1 = stock_code[stock_code.code.isin(er_df_1_1.code)]\n",
    "print(balance1_1.shape)"
   ]
  },
  {
   "cell_type": "code",
   "execution_count": 9,
   "metadata": {},
   "outputs": [
    {
     "name": "stderr",
     "output_type": "stream",
     "text": [
      "100%|█████████████████████████████████████████████████████████████████████████████████| 1/1 [00:02<00:00,  2.48s/it]\n"
     ]
    },
    {
     "name": "stdout",
     "output_type": "stream",
     "text": [
      "Time taken:  2.4770259857177734\n",
      "(1, 12)\n"
     ]
    },
    {
     "data": {
      "text/html": [
       "<div>\n",
       "<style scoped>\n",
       "    .dataframe tbody tr th:only-of-type {\n",
       "        vertical-align: middle;\n",
       "    }\n",
       "\n",
       "    .dataframe tbody tr th {\n",
       "        vertical-align: top;\n",
       "    }\n",
       "\n",
       "    .dataframe thead th {\n",
       "        text-align: right;\n",
       "    }\n",
       "</style>\n",
       "<table border=\"1\" class=\"dataframe\">\n",
       "  <thead>\n",
       "    <tr style=\"text-align: right;\">\n",
       "      <th></th>\n",
       "      <th>code</th>\n",
       "      <th>category</th>\n",
       "      <th>Price</th>\n",
       "      <th>52w low</th>\n",
       "      <th>52w high</th>\n",
       "      <th>BVPS</th>\n",
       "      <th>P/E</th>\n",
       "      <th>EPS</th>\n",
       "      <th>EY</th>\n",
       "      <th>DPS</th>\n",
       "      <th>DY</th>\n",
       "      <th>ROE</th>\n",
       "    </tr>\n",
       "  </thead>\n",
       "  <tbody>\n",
       "    <tr>\n",
       "      <th>0</th>\n",
       "      <td>0152</td>\n",
       "      <td>Technology</td>\n",
       "      <td>0.1</td>\n",
       "      <td>0.08</td>\n",
       "      <td>0.54</td>\n",
       "      <td>0.05</td>\n",
       "      <td>-12.0</td>\n",
       "      <td>-0.01</td>\n",
       "      <td>-10.0</td>\n",
       "      <td>0.0</td>\n",
       "      <td>0.0</td>\n",
       "      <td>-17.4</td>\n",
       "    </tr>\n",
       "  </tbody>\n",
       "</table>\n",
       "</div>"
      ],
      "text/plain": [
       "   code    category  Price  52w low  52w high  BVPS   P/E   EPS    EY  DPS  \\\n",
       "0  0152  Technology    0.1     0.08      0.54  0.05 -12.0 -0.01 -10.0  0.0   \n",
       "\n",
       "    DY   ROE  \n",
       "0  0.0 -17.4  "
      ]
     },
     "metadata": {},
     "output_type": "display_data"
    },
    {
     "data": {
      "text/plain": [
       "Series([], Name: reason, dtype: int64)"
      ]
     },
     "metadata": {},
     "output_type": "display_data"
    }
   ],
   "source": [
    "data1_1_1, er_df_1_1_1 = process_stage_1(balance1_1)\n",
    "print(data1_1_1.shape)\n",
    "data1_1_1.to_csv(out_dir+'klse_01a_latest_data_part2.csv', index=False)\n",
    "display(data1_1_1.head(1))\n",
    "display(er_df_1_1_1.reason.value_counts())\n",
    "\n",
    "if len(er_df_1_1_1) != 0:\n",
    "    display(er_df_1_1_1)"
   ]
  },
  {
   "cell_type": "code",
   "execution_count": 10,
   "metadata": {},
   "outputs": [
    {
     "name": "stdout",
     "output_type": "stream",
     "text": [
      "(916, 12)\n"
     ]
    }
   ],
   "source": [
    "data1_1 = pd.concat([pd.read_csv(file) for file in glob(out_dir+'klse_01a_*')])\n",
    "data1_1.code = data1_1.code.apply(lambda x: str(x).zfill(4))\n",
    "print(data1_1.shape)"
   ]
  },
  {
   "cell_type": "code",
   "execution_count": 11,
   "metadata": {},
   "outputs": [
    {
     "name": "stdout",
     "output_type": "stream",
     "text": [
      "(0, 2)\n"
     ]
    }
   ],
   "source": [
    "balance1_1 = stock_code[~stock_code.code.isin(data1_1.code)]\n",
    "print(balance1_1.shape)"
   ]
  },
  {
   "cell_type": "code",
   "execution_count": 12,
   "metadata": {},
   "outputs": [
    {
     "name": "stdout",
     "output_type": "stream",
     "text": [
      "(685, 12)\n"
     ]
    }
   ],
   "source": [
    "cat_list = ['Consumer Products & Services','Energy','Financial Services','Health Care','Industrial Products & Services',\n",
    "            'Real Estate Investment Trusts','Technology','Transportation & Logistics','Utilities']\n",
    "data1_1 = data1_1[data1_1.category.isin(cat_list)]\n",
    "print(data1_1.shape)"
   ]
  },
  {
   "cell_type": "code",
   "execution_count": 13,
   "metadata": {
    "scrolled": true
   },
   "outputs": [
    {
     "name": "stderr",
     "output_type": "stream",
     "text": [
      "100%|███████████████████████████████████████████████████████████████████████████████| 50/50 [07:07<00:00,  8.56s/it]\n",
      "100%|███████████████████████████████████████████████████████████████████████████████| 50/50 [07:09<00:00,  8.59s/it]\n",
      "100%|███████████████████████████████████████████████████████████████████████████████| 50/50 [06:40<00:00,  8.01s/it]\n",
      "100%|███████████████████████████████████████████████████████████████████████████████| 50/50 [06:41<00:00,  8.03s/it]\n",
      "100%|███████████████████████████████████████████████████████████████████████████████| 50/50 [06:49<00:00,  8.18s/it]\n",
      "100%|███████████████████████████████████████████████████████████████████████████████| 50/50 [06:54<00:00,  8.28s/it]\n",
      "100%|███████████████████████████████████████████████████████████████████████████████| 50/50 [07:11<00:00,  8.63s/it]\n",
      "100%|███████████████████████████████████████████████████████████████████████████████| 50/50 [07:17<00:00,  8.75s/it]\n",
      "100%|███████████████████████████████████████████████████████████████████████████████| 50/50 [07:19<00:00,  8.80s/it]\n",
      "100%|███████████████████████████████████████████████████████████████████████████████| 50/50 [06:25<00:00,  7.71s/it]\n",
      "100%|███████████████████████████████████████████████████████████████████████████████| 50/50 [07:20<00:00,  8.80s/it]\n",
      "100%|███████████████████████████████████████████████████████████████████████████████| 50/50 [07:21<00:00,  8.84s/it]\n",
      "100%|███████████████████████████████████████████████████████████████████████████████| 50/50 [07:24<00:00,  8.89s/it]\n",
      "100%|███████████████████████████████████████████████████████████████████████████████| 35/35 [05:00<00:00,  8.57s/it]\n"
     ]
    },
    {
     "ename": "NameError",
     "evalue": "name 'start_time' is not defined",
     "output_type": "error",
     "traceback": [
      "\u001b[1;31m---------------------------------------------------------------------------\u001b[0m",
      "\u001b[1;31mNameError\u001b[0m                                 Traceback (most recent call last)",
      "\u001b[1;32m<ipython-input-13-b0bcbd8719ba>\u001b[0m in \u001b[0;36m<module>\u001b[1;34m\u001b[0m\n\u001b[1;32m----> 1\u001b[1;33m \u001b[0mer_df_1_2\u001b[0m\u001b[1;33m,\u001b[0m \u001b[0mer_df_2\u001b[0m \u001b[1;33m=\u001b[0m \u001b[0mprocess_stage_2\u001b[0m\u001b[1;33m(\u001b[0m\u001b[0mdata1_1\u001b[0m\u001b[1;33m)\u001b[0m\u001b[1;33m\u001b[0m\u001b[1;33m\u001b[0m\u001b[0m\n\u001b[0m\u001b[0;32m      2\u001b[0m \u001b[0mdisplay\u001b[0m\u001b[1;33m(\u001b[0m\u001b[0mer_df_1_2\u001b[0m\u001b[1;33m.\u001b[0m\u001b[0mreason\u001b[0m\u001b[1;33m.\u001b[0m\u001b[0mvalue_counts\u001b[0m\u001b[1;33m(\u001b[0m\u001b[1;33m)\u001b[0m\u001b[1;33m)\u001b[0m\u001b[1;33m\u001b[0m\u001b[1;33m\u001b[0m\u001b[0m\n\u001b[0;32m      3\u001b[0m \u001b[0mdisplay\u001b[0m\u001b[1;33m(\u001b[0m\u001b[0mer_df_2\u001b[0m\u001b[1;33m.\u001b[0m\u001b[0mreason\u001b[0m\u001b[1;33m.\u001b[0m\u001b[0mvalue_counts\u001b[0m\u001b[1;33m(\u001b[0m\u001b[1;33m)\u001b[0m\u001b[1;33m)\u001b[0m\u001b[1;33m\u001b[0m\u001b[1;33m\u001b[0m\u001b[0m\n\u001b[0;32m      4\u001b[0m \u001b[1;33m\u001b[0m\u001b[0m\n\u001b[0;32m      5\u001b[0m \u001b[1;32mif\u001b[0m \u001b[0mlen\u001b[0m\u001b[1;33m(\u001b[0m\u001b[0mer_df_1_2\u001b[0m\u001b[1;33m)\u001b[0m \u001b[1;33m!=\u001b[0m \u001b[1;36m0\u001b[0m\u001b[1;33m:\u001b[0m\u001b[1;33m\u001b[0m\u001b[1;33m\u001b[0m\u001b[0m\n",
      "\u001b[1;32m<ipython-input-6-699ee93ee46e>\u001b[0m in \u001b[0;36mprocess_stage_2\u001b[1;34m(balance, offset)\u001b[0m\n\u001b[0;32m    119\u001b[0m \u001b[1;33m\u001b[0m\u001b[0m\n\u001b[0;32m    120\u001b[0m \u001b[1;31m#     driver.quit()\u001b[0m\u001b[1;33m\u001b[0m\u001b[1;33m\u001b[0m\u001b[1;33m\u001b[0m\u001b[0m\n\u001b[1;32m--> 121\u001b[1;33m     \u001b[0mprint\u001b[0m\u001b[1;33m(\u001b[0m\u001b[1;34m'Time taken: '\u001b[0m\u001b[1;33m,\u001b[0m\u001b[0mtime\u001b[0m\u001b[1;33m.\u001b[0m\u001b[0mtime\u001b[0m\u001b[1;33m(\u001b[0m\u001b[1;33m)\u001b[0m\u001b[1;33m-\u001b[0m\u001b[0mstart_time\u001b[0m\u001b[1;33m)\u001b[0m\u001b[1;33m\u001b[0m\u001b[1;33m\u001b[0m\u001b[0m\n\u001b[0m\u001b[0;32m    122\u001b[0m \u001b[1;33m\u001b[0m\u001b[0m\n\u001b[0;32m    123\u001b[0m     \u001b[0mer_df_1\u001b[0m \u001b[1;33m=\u001b[0m \u001b[0mpd\u001b[0m\u001b[1;33m.\u001b[0m\u001b[0mDataFrame\u001b[0m\u001b[1;33m(\u001b[0m\u001b[0merror1_2\u001b[0m\u001b[1;33m,\u001b[0m \u001b[0mcolumns\u001b[0m\u001b[1;33m=\u001b[0m\u001b[1;33m[\u001b[0m\u001b[1;34m'code'\u001b[0m\u001b[1;33m,\u001b[0m\u001b[1;34m'reason'\u001b[0m\u001b[1;33m]\u001b[0m\u001b[1;33m)\u001b[0m\u001b[1;33m\u001b[0m\u001b[1;33m\u001b[0m\u001b[0m\n",
      "\u001b[1;31mNameError\u001b[0m: name 'start_time' is not defined"
     ]
    }
   ],
   "source": [
    "er_df_1_2, er_df_2 = process_stage_2(data1_1)\n",
    "display(er_df_1_2.reason.value_counts())\n",
    "display(er_df_2.reason.value_counts())\n",
    "\n",
    "if len(er_df_1_2) != 0:\n",
    "    display(er_df_1_2)\n",
    "if len(er_df_2) != 0:\n",
    "    display(er_df_2) "
   ]
  },
  {
   "cell_type": "code",
   "execution_count": null,
   "metadata": {
    "scrolled": true
   },
   "outputs": [],
   "source": [
    "balance1_2 = stock_code[stock_code.code.isin(er_df_2.code)]\n",
    "print(balance1_2.shape)\n",
    "balance1_2"
   ]
  },
  {
   "cell_type": "code",
   "execution_count": 14,
   "metadata": {
    "scrolled": true
   },
   "outputs": [
    {
     "name": "stderr",
     "output_type": "stream",
     "text": [
      "100%|███████████████████████████████████████████████████████████████████████████████| 50/50 [10:36<00:00, 12.72s/it]\n",
      "100%|█████████████████████████████████████████████████████████████████████████████████| 3/3 [00:28<00:00,  9.41s/it]\n"
     ]
    },
    {
     "name": "stdout",
     "output_type": "stream",
     "text": [
      "Time taken:  679.9602513313293\n"
     ]
    },
    {
     "data": {
      "text/plain": [
       "IndexError    4\n",
       "Name: reason, dtype: int64"
      ]
     },
     "metadata": {},
     "output_type": "display_data"
    },
    {
     "data": {
      "text/plain": [
       "NoSuchElementException    5\n",
       "Name: reason, dtype: int64"
      ]
     },
     "metadata": {},
     "output_type": "display_data"
    },
    {
     "data": {
      "text/html": [
       "<div>\n",
       "<style scoped>\n",
       "    .dataframe tbody tr th:only-of-type {\n",
       "        vertical-align: middle;\n",
       "    }\n",
       "\n",
       "    .dataframe tbody tr th {\n",
       "        vertical-align: top;\n",
       "    }\n",
       "\n",
       "    .dataframe thead th {\n",
       "        text-align: right;\n",
       "    }\n",
       "</style>\n",
       "<table border=\"1\" class=\"dataframe\">\n",
       "  <thead>\n",
       "    <tr style=\"text-align: right;\">\n",
       "      <th></th>\n",
       "      <th>code</th>\n",
       "      <th>reason</th>\n",
       "    </tr>\n",
       "  </thead>\n",
       "  <tbody>\n",
       "    <tr>\n",
       "      <th>0</th>\n",
       "      <td>0219</td>\n",
       "      <td>IndexError</td>\n",
       "    </tr>\n",
       "    <tr>\n",
       "      <th>1</th>\n",
       "      <td>0225</td>\n",
       "      <td>IndexError</td>\n",
       "    </tr>\n",
       "    <tr>\n",
       "      <th>2</th>\n",
       "      <td>0228</td>\n",
       "      <td>IndexError</td>\n",
       "    </tr>\n",
       "    <tr>\n",
       "      <th>3</th>\n",
       "      <td>5296</td>\n",
       "      <td>IndexError</td>\n",
       "    </tr>\n",
       "  </tbody>\n",
       "</table>\n",
       "</div>"
      ],
      "text/plain": [
       "   code      reason\n",
       "0  0219  IndexError\n",
       "1  0225  IndexError\n",
       "2  0228  IndexError\n",
       "3  5296  IndexError"
      ]
     },
     "metadata": {},
     "output_type": "display_data"
    },
    {
     "data": {
      "text/html": [
       "<div>\n",
       "<style scoped>\n",
       "    .dataframe tbody tr th:only-of-type {\n",
       "        vertical-align: middle;\n",
       "    }\n",
       "\n",
       "    .dataframe tbody tr th {\n",
       "        vertical-align: top;\n",
       "    }\n",
       "\n",
       "    .dataframe thead th {\n",
       "        text-align: right;\n",
       "    }\n",
       "</style>\n",
       "<table border=\"1\" class=\"dataframe\">\n",
       "  <thead>\n",
       "    <tr style=\"text-align: right;\">\n",
       "      <th></th>\n",
       "      <th>code</th>\n",
       "      <th>reason</th>\n",
       "    </tr>\n",
       "  </thead>\n",
       "  <tbody>\n",
       "    <tr>\n",
       "      <th>0</th>\n",
       "      <td>0028</td>\n",
       "      <td>NoSuchElementException</td>\n",
       "    </tr>\n",
       "    <tr>\n",
       "      <th>1</th>\n",
       "      <td>0045</td>\n",
       "      <td>NoSuchElementException</td>\n",
       "    </tr>\n",
       "    <tr>\n",
       "      <th>2</th>\n",
       "      <td>5105</td>\n",
       "      <td>NoSuchElementException</td>\n",
       "    </tr>\n",
       "    <tr>\n",
       "      <th>3</th>\n",
       "      <td>5198</td>\n",
       "      <td>NoSuchElementException</td>\n",
       "    </tr>\n",
       "    <tr>\n",
       "      <th>4</th>\n",
       "      <td>6742</td>\n",
       "      <td>NoSuchElementException</td>\n",
       "    </tr>\n",
       "  </tbody>\n",
       "</table>\n",
       "</div>"
      ],
      "text/plain": [
       "   code                  reason\n",
       "0  0028  NoSuchElementException\n",
       "1  0045  NoSuchElementException\n",
       "2  5105  NoSuchElementException\n",
       "3  5198  NoSuchElementException\n",
       "4  6742  NoSuchElementException"
      ]
     },
     "metadata": {},
     "output_type": "display_data"
    }
   ],
   "source": [
    "er_df_1_2, er_df_2 = process_stage_2(balance1_2,20)\n",
    "display(er_df_1_2.reason.value_counts())\n",
    "display(er_df_2.reason.value_counts())\n",
    "\n",
    "if len(er_df_1_2) != 0:\n",
    "    display(er_df_1_2)\n",
    "if len(er_df_2) != 0:\n",
    "    display(er_df_2) "
   ]
  },
  {
   "cell_type": "code",
   "execution_count": 21,
   "metadata": {},
   "outputs": [
    {
     "name": "stdout",
     "output_type": "stream",
     "text": [
      "(684, 4)\n",
      "(684, 15)\n"
     ]
    },
    {
     "data": {
      "text/html": [
       "<div>\n",
       "<style scoped>\n",
       "    .dataframe tbody tr th:only-of-type {\n",
       "        vertical-align: middle;\n",
       "    }\n",
       "\n",
       "    .dataframe tbody tr th {\n",
       "        vertical-align: top;\n",
       "    }\n",
       "\n",
       "    .dataframe thead th {\n",
       "        text-align: right;\n",
       "    }\n",
       "</style>\n",
       "<table border=\"1\" class=\"dataframe\">\n",
       "  <thead>\n",
       "    <tr style=\"text-align: right;\">\n",
       "      <th></th>\n",
       "      <th>code</th>\n",
       "      <th>category</th>\n",
       "      <th>Price</th>\n",
       "      <th>52w low</th>\n",
       "      <th>52w high</th>\n",
       "      <th>BVPS</th>\n",
       "      <th>P/E</th>\n",
       "      <th>EPS</th>\n",
       "      <th>EY</th>\n",
       "      <th>DPS</th>\n",
       "      <th>DY</th>\n",
       "      <th>ROE</th>\n",
       "      <th>ROE2</th>\n",
       "      <th>D/E</th>\n",
       "      <th>D/E2</th>\n",
       "    </tr>\n",
       "  </thead>\n",
       "  <tbody>\n",
       "    <tr>\n",
       "      <th>0</th>\n",
       "      <td>0001</td>\n",
       "      <td>Health Care</td>\n",
       "      <td>1.97</td>\n",
       "      <td>0.314</td>\n",
       "      <td>2.38</td>\n",
       "      <td>0.3398</td>\n",
       "      <td>68.0</td>\n",
       "      <td>0.03</td>\n",
       "      <td>1.52</td>\n",
       "      <td>0.02</td>\n",
       "      <td>0.76</td>\n",
       "      <td>8.59</td>\n",
       "      <td>9.65</td>\n",
       "      <td>0.0</td>\n",
       "      <td>0.0</td>\n",
       "    </tr>\n",
       "  </tbody>\n",
       "</table>\n",
       "</div>"
      ],
      "text/plain": [
       "   code     category  Price  52w low  52w high    BVPS   P/E   EPS    EY  \\\n",
       "0  0001  Health Care   1.97    0.314      2.38  0.3398  68.0  0.03  1.52   \n",
       "\n",
       "    DPS    DY   ROE  ROE2  D/E  D/E2  \n",
       "0  0.02  0.76  8.59  9.65  0.0   0.0  "
      ]
     },
     "metadata": {},
     "output_type": "display_data"
    }
   ],
   "source": [
    "data1_2 = pd.concat([pd.read_csv(file) for file in glob('temp_data/data1*.csv')])\n",
    "data1_2['code'] = data1_2.code.apply(lambda x: str(x).zfill(4))\n",
    "data1_2.to_csv(out_dir+'klse_01b_latest_data.csv', index=False)\n",
    "print(data1_2.shape)\n",
    "\n",
    "data1 = data1_1.merge(data1_2,'inner')\n",
    "data1 = data1[['code','category','Price','52w low','52w high','BVPS','P/E','EPS','EY','DPS','DY','ROE','ROE2','D/E','D/E2']]\n",
    "print(data1.shape)\n",
    "data1.to_csv(out_dir+'klse_01_latest_data.csv', index=False)\n",
    "display(data1.head(1))"
   ]
  },
  {
   "cell_type": "code",
   "execution_count": 22,
   "metadata": {},
   "outputs": [
    {
     "name": "stdout",
     "output_type": "stream",
     "text": [
      "(19152, 13)\n",
      "684\n"
     ]
    },
    {
     "data": {
      "text/html": [
       "<div>\n",
       "<style scoped>\n",
       "    .dataframe tbody tr th:only-of-type {\n",
       "        vertical-align: middle;\n",
       "    }\n",
       "\n",
       "    .dataframe tbody tr th {\n",
       "        vertical-align: top;\n",
       "    }\n",
       "\n",
       "    .dataframe thead th {\n",
       "        text-align: right;\n",
       "    }\n",
       "</style>\n",
       "<table border=\"1\" class=\"dataframe\">\n",
       "  <thead>\n",
       "    <tr style=\"text-align: right;\">\n",
       "      <th></th>\n",
       "      <th>code</th>\n",
       "      <th>detail</th>\n",
       "      <th>TTM</th>\n",
       "      <th>Y1</th>\n",
       "      <th>Y2</th>\n",
       "      <th>Y3</th>\n",
       "      <th>Y4</th>\n",
       "      <th>Y5</th>\n",
       "      <th>Y6</th>\n",
       "      <th>Y7</th>\n",
       "      <th>Y8</th>\n",
       "      <th>Y9</th>\n",
       "      <th>Y10</th>\n",
       "    </tr>\n",
       "  </thead>\n",
       "  <tbody>\n",
       "    <tr>\n",
       "      <th>0</th>\n",
       "      <td>0001</td>\n",
       "      <td>Year End</td>\n",
       "      <td>TTM</td>\n",
       "      <td>2019-12</td>\n",
       "      <td>2018-12</td>\n",
       "      <td>2017-12</td>\n",
       "      <td>2016-12</td>\n",
       "      <td>2015-12</td>\n",
       "      <td>2014-12</td>\n",
       "      <td>2013-12</td>\n",
       "      <td>2012-12</td>\n",
       "      <td>2011-12</td>\n",
       "      <td>2010-12</td>\n",
       "    </tr>\n",
       "  </tbody>\n",
       "</table>\n",
       "</div>"
      ],
      "text/plain": [
       "   code    detail  TTM       Y1       Y2       Y3       Y4       Y5       Y6  \\\n",
       "0  0001  Year End  TTM  2019-12  2018-12  2017-12  2016-12  2015-12  2014-12   \n",
       "\n",
       "        Y7       Y8       Y9      Y10  \n",
       "0  2013-12  2012-12  2011-12  2010-12  "
      ]
     },
     "metadata": {},
     "output_type": "display_data"
    }
   ],
   "source": [
    "data2 = pd.concat([pd.read_csv(file) for file in glob('temp_data/data2*.csv')])\n",
    "data2['code'] = data2.code.apply(lambda x: str(x).zfill(4))\n",
    "data2.to_csv(out_dir+'klse_02_10yr_data.csv', index=False)\n",
    "print(data2.shape)\n",
    "print(data2.code.nunique())\n",
    "display(data2.head(1))"
   ]
  },
  {
   "cell_type": "code",
   "execution_count": 23,
   "metadata": {
    "scrolled": true
   },
   "outputs": [
    {
     "name": "stdout",
     "output_type": "stream",
     "text": [
      "(1, 12)\n"
     ]
    },
    {
     "data": {
      "text/html": [
       "<div>\n",
       "<style scoped>\n",
       "    .dataframe tbody tr th:only-of-type {\n",
       "        vertical-align: middle;\n",
       "    }\n",
       "\n",
       "    .dataframe tbody tr th {\n",
       "        vertical-align: top;\n",
       "    }\n",
       "\n",
       "    .dataframe thead th {\n",
       "        text-align: right;\n",
       "    }\n",
       "</style>\n",
       "<table border=\"1\" class=\"dataframe\">\n",
       "  <thead>\n",
       "    <tr style=\"text-align: right;\">\n",
       "      <th></th>\n",
       "      <th>code</th>\n",
       "      <th>category</th>\n",
       "      <th>Price</th>\n",
       "      <th>52w low</th>\n",
       "      <th>52w high</th>\n",
       "      <th>BVPS</th>\n",
       "      <th>P/E</th>\n",
       "      <th>EPS</th>\n",
       "      <th>EY</th>\n",
       "      <th>DPS</th>\n",
       "      <th>DY</th>\n",
       "      <th>ROE</th>\n",
       "    </tr>\n",
       "  </thead>\n",
       "  <tbody>\n",
       "    <tr>\n",
       "      <th>30</th>\n",
       "      <td>0045</td>\n",
       "      <td>Technology</td>\n",
       "      <td>0.015</td>\n",
       "      <td>0.015</td>\n",
       "      <td>0.095</td>\n",
       "      <td>-0.0237</td>\n",
       "      <td>-2.0</td>\n",
       "      <td>-0.01</td>\n",
       "      <td>-66.67</td>\n",
       "      <td>0.0</td>\n",
       "      <td>0.0</td>\n",
       "      <td>35.86</td>\n",
       "    </tr>\n",
       "  </tbody>\n",
       "</table>\n",
       "</div>"
      ],
      "text/plain": [
       "    code    category  Price  52w low  52w high    BVPS  P/E   EPS     EY  DPS  \\\n",
       "30  0045  Technology  0.015    0.015     0.095 -0.0237 -2.0 -0.01 -66.67  0.0   \n",
       "\n",
       "     DY    ROE  \n",
       "30  0.0  35.86  "
      ]
     },
     "execution_count": 23,
     "metadata": {},
     "output_type": "execute_result"
    }
   ],
   "source": [
    "balance = data1_1[~data1_1.code.isin(data2.code)]\n",
    "print(balance.shape)\n",
    "balance"
   ]
  },
  {
   "cell_type": "code",
   "execution_count": 24,
   "metadata": {
    "collapsed": true
   },
   "outputs": [
    {
     "name": "stderr",
     "output_type": "stream",
     "text": [
      "100%|█████████████████████████████████████████████████████████████████████████████████| 1/1 [00:04<00:00,  4.98s/it]\n"
     ]
    },
    {
     "ename": "ValueError",
     "evalue": "Length mismatch: Expected axis has 0 elements, new values have 13 elements",
     "output_type": "error",
     "traceback": [
      "\u001b[1;31m---------------------------------------------------------------------------\u001b[0m",
      "\u001b[1;31mValueError\u001b[0m                                Traceback (most recent call last)",
      "\u001b[1;32m<ipython-input-24-89ba488da618>\u001b[0m in \u001b[0;36m<module>\u001b[1;34m\u001b[0m\n\u001b[1;32m----> 1\u001b[1;33m \u001b[0mer_df_1\u001b[0m\u001b[1;33m,\u001b[0m \u001b[0mer_df_2\u001b[0m \u001b[1;33m=\u001b[0m \u001b[0mprocess_stage_2\u001b[0m\u001b[1;33m(\u001b[0m\u001b[0mbalance\u001b[0m\u001b[1;33m,\u001b[0m \u001b[1;36m30\u001b[0m\u001b[1;33m)\u001b[0m\u001b[1;33m\u001b[0m\u001b[1;33m\u001b[0m\u001b[0m\n\u001b[0m\u001b[0;32m      2\u001b[0m \u001b[0mdisplay\u001b[0m\u001b[1;33m(\u001b[0m\u001b[0mer_df_1\u001b[0m\u001b[1;33m.\u001b[0m\u001b[0mreason\u001b[0m\u001b[1;33m.\u001b[0m\u001b[0mvalue_counts\u001b[0m\u001b[1;33m(\u001b[0m\u001b[1;33m)\u001b[0m\u001b[1;33m)\u001b[0m\u001b[1;33m\u001b[0m\u001b[1;33m\u001b[0m\u001b[0m\n\u001b[0;32m      3\u001b[0m \u001b[0mdisplay\u001b[0m\u001b[1;33m(\u001b[0m\u001b[0mer_df_2\u001b[0m\u001b[1;33m.\u001b[0m\u001b[0mreason\u001b[0m\u001b[1;33m.\u001b[0m\u001b[0mvalue_counts\u001b[0m\u001b[1;33m(\u001b[0m\u001b[1;33m)\u001b[0m\u001b[1;33m)\u001b[0m\u001b[1;33m\u001b[0m\u001b[1;33m\u001b[0m\u001b[0m\n\u001b[0;32m      4\u001b[0m \u001b[1;33m\u001b[0m\u001b[0m\n\u001b[0;32m      5\u001b[0m \u001b[1;32massert\u001b[0m\u001b[1;33m(\u001b[0m\u001b[0mlen\u001b[0m\u001b[1;33m(\u001b[0m\u001b[0mer_df_1\u001b[0m\u001b[1;33m)\u001b[0m \u001b[1;33m==\u001b[0m \u001b[1;36m0\u001b[0m\u001b[1;33m)\u001b[0m\u001b[1;33m\u001b[0m\u001b[1;33m\u001b[0m\u001b[0m\n",
      "\u001b[1;32m<ipython-input-19-8ef8576e5f5e>\u001b[0m in \u001b[0;36mprocess_stage_2\u001b[1;34m(balance, offset)\u001b[0m\n\u001b[0;32m    111\u001b[0m \u001b[1;33m\u001b[0m\u001b[0m\n\u001b[0;32m    112\u001b[0m         \u001b[0mdata1_2\u001b[0m \u001b[1;33m=\u001b[0m \u001b[0mpd\u001b[0m\u001b[1;33m.\u001b[0m\u001b[0mDataFrame\u001b[0m\u001b[1;33m(\u001b[0m\u001b[0mresult1_2\u001b[0m\u001b[1;33m,\u001b[0m \u001b[0mcolumns\u001b[0m\u001b[1;33m=\u001b[0m\u001b[1;33m[\u001b[0m\u001b[1;34m'code'\u001b[0m\u001b[1;33m,\u001b[0m\u001b[1;34m'ROE2'\u001b[0m\u001b[1;33m,\u001b[0m\u001b[1;34m'D/E'\u001b[0m\u001b[1;33m,\u001b[0m\u001b[1;34m'D/E2'\u001b[0m\u001b[1;33m]\u001b[0m\u001b[1;33m)\u001b[0m\u001b[1;33m\u001b[0m\u001b[1;33m\u001b[0m\u001b[0m\n\u001b[1;32m--> 113\u001b[1;33m         \u001b[0mdata2\u001b[0m\u001b[1;33m.\u001b[0m\u001b[0mcolumns\u001b[0m \u001b[1;33m=\u001b[0m \u001b[1;33m[\u001b[0m\u001b[1;34m'code'\u001b[0m\u001b[1;33m,\u001b[0m\u001b[1;34m'detail'\u001b[0m\u001b[1;33m,\u001b[0m\u001b[1;34m'TTM'\u001b[0m\u001b[1;33m,\u001b[0m\u001b[1;34m'Y1'\u001b[0m\u001b[1;33m,\u001b[0m\u001b[1;34m'Y2'\u001b[0m\u001b[1;33m,\u001b[0m\u001b[1;34m'Y3'\u001b[0m\u001b[1;33m,\u001b[0m\u001b[1;34m'Y4'\u001b[0m\u001b[1;33m,\u001b[0m\u001b[1;34m'Y5'\u001b[0m\u001b[1;33m,\u001b[0m\u001b[1;34m'Y6'\u001b[0m\u001b[1;33m,\u001b[0m\u001b[1;34m'Y7'\u001b[0m\u001b[1;33m,\u001b[0m\u001b[1;34m'Y8'\u001b[0m\u001b[1;33m,\u001b[0m\u001b[1;34m'Y9'\u001b[0m\u001b[1;33m,\u001b[0m\u001b[1;34m'Y10'\u001b[0m\u001b[1;33m]\u001b[0m\u001b[1;33m\u001b[0m\u001b[1;33m\u001b[0m\u001b[0m\n\u001b[0m\u001b[0;32m    114\u001b[0m         \u001b[0mdata2\u001b[0m\u001b[1;33m.\u001b[0m\u001b[0mfillna\u001b[0m\u001b[1;33m(\u001b[0m\u001b[1;36m0.0\u001b[0m\u001b[1;33m,\u001b[0m \u001b[0minplace\u001b[0m\u001b[1;33m=\u001b[0m\u001b[1;32mTrue\u001b[0m\u001b[1;33m)\u001b[0m\u001b[1;33m\u001b[0m\u001b[1;33m\u001b[0m\u001b[0m\n\u001b[0;32m    115\u001b[0m \u001b[1;33m\u001b[0m\u001b[0m\n",
      "\u001b[1;32md:\\anaconda3\\envs\\tensorflow\\lib\\site-packages\\pandas\\core\\generic.py\u001b[0m in \u001b[0;36m__setattr__\u001b[1;34m(self, name, value)\u001b[0m\n\u001b[0;32m   5190\u001b[0m         \u001b[1;32mtry\u001b[0m\u001b[1;33m:\u001b[0m\u001b[1;33m\u001b[0m\u001b[1;33m\u001b[0m\u001b[0m\n\u001b[0;32m   5191\u001b[0m             \u001b[0mobject\u001b[0m\u001b[1;33m.\u001b[0m\u001b[0m__getattribute__\u001b[0m\u001b[1;33m(\u001b[0m\u001b[0mself\u001b[0m\u001b[1;33m,\u001b[0m \u001b[0mname\u001b[0m\u001b[1;33m)\u001b[0m\u001b[1;33m\u001b[0m\u001b[1;33m\u001b[0m\u001b[0m\n\u001b[1;32m-> 5192\u001b[1;33m             \u001b[1;32mreturn\u001b[0m \u001b[0mobject\u001b[0m\u001b[1;33m.\u001b[0m\u001b[0m__setattr__\u001b[0m\u001b[1;33m(\u001b[0m\u001b[0mself\u001b[0m\u001b[1;33m,\u001b[0m \u001b[0mname\u001b[0m\u001b[1;33m,\u001b[0m \u001b[0mvalue\u001b[0m\u001b[1;33m)\u001b[0m\u001b[1;33m\u001b[0m\u001b[1;33m\u001b[0m\u001b[0m\n\u001b[0m\u001b[0;32m   5193\u001b[0m         \u001b[1;32mexcept\u001b[0m \u001b[0mAttributeError\u001b[0m\u001b[1;33m:\u001b[0m\u001b[1;33m\u001b[0m\u001b[1;33m\u001b[0m\u001b[0m\n\u001b[0;32m   5194\u001b[0m             \u001b[1;32mpass\u001b[0m\u001b[1;33m\u001b[0m\u001b[1;33m\u001b[0m\u001b[0m\n",
      "\u001b[1;32mpandas/_libs/properties.pyx\u001b[0m in \u001b[0;36mpandas._libs.properties.AxisProperty.__set__\u001b[1;34m()\u001b[0m\n",
      "\u001b[1;32md:\\anaconda3\\envs\\tensorflow\\lib\\site-packages\\pandas\\core\\generic.py\u001b[0m in \u001b[0;36m_set_axis\u001b[1;34m(self, axis, labels)\u001b[0m\n\u001b[0;32m    688\u001b[0m \u001b[1;33m\u001b[0m\u001b[0m\n\u001b[0;32m    689\u001b[0m     \u001b[1;32mdef\u001b[0m \u001b[0m_set_axis\u001b[0m\u001b[1;33m(\u001b[0m\u001b[0mself\u001b[0m\u001b[1;33m,\u001b[0m \u001b[0maxis\u001b[0m\u001b[1;33m,\u001b[0m \u001b[0mlabels\u001b[0m\u001b[1;33m)\u001b[0m\u001b[1;33m:\u001b[0m\u001b[1;33m\u001b[0m\u001b[1;33m\u001b[0m\u001b[0m\n\u001b[1;32m--> 690\u001b[1;33m         \u001b[0mself\u001b[0m\u001b[1;33m.\u001b[0m\u001b[0m_data\u001b[0m\u001b[1;33m.\u001b[0m\u001b[0mset_axis\u001b[0m\u001b[1;33m(\u001b[0m\u001b[0maxis\u001b[0m\u001b[1;33m,\u001b[0m \u001b[0mlabels\u001b[0m\u001b[1;33m)\u001b[0m\u001b[1;33m\u001b[0m\u001b[1;33m\u001b[0m\u001b[0m\n\u001b[0m\u001b[0;32m    691\u001b[0m         \u001b[0mself\u001b[0m\u001b[1;33m.\u001b[0m\u001b[0m_clear_item_cache\u001b[0m\u001b[1;33m(\u001b[0m\u001b[1;33m)\u001b[0m\u001b[1;33m\u001b[0m\u001b[1;33m\u001b[0m\u001b[0m\n\u001b[0;32m    692\u001b[0m \u001b[1;33m\u001b[0m\u001b[0m\n",
      "\u001b[1;32md:\\anaconda3\\envs\\tensorflow\\lib\\site-packages\\pandas\\core\\internals\\managers.py\u001b[0m in \u001b[0;36mset_axis\u001b[1;34m(self, axis, new_labels)\u001b[0m\n\u001b[0;32m    181\u001b[0m             raise ValueError(\n\u001b[0;32m    182\u001b[0m                 \u001b[1;34m\"Length mismatch: Expected axis has {old} elements, new \"\u001b[0m\u001b[1;33m\u001b[0m\u001b[1;33m\u001b[0m\u001b[0m\n\u001b[1;32m--> 183\u001b[1;33m                 \u001b[1;34m\"values have {new} elements\"\u001b[0m\u001b[1;33m.\u001b[0m\u001b[0mformat\u001b[0m\u001b[1;33m(\u001b[0m\u001b[0mold\u001b[0m\u001b[1;33m=\u001b[0m\u001b[0mold_len\u001b[0m\u001b[1;33m,\u001b[0m \u001b[0mnew\u001b[0m\u001b[1;33m=\u001b[0m\u001b[0mnew_len\u001b[0m\u001b[1;33m)\u001b[0m\u001b[1;33m\u001b[0m\u001b[1;33m\u001b[0m\u001b[0m\n\u001b[0m\u001b[0;32m    184\u001b[0m             )\n\u001b[0;32m    185\u001b[0m \u001b[1;33m\u001b[0m\u001b[0m\n",
      "\u001b[1;31mValueError\u001b[0m: Length mismatch: Expected axis has 0 elements, new values have 13 elements"
     ]
    }
   ],
   "source": [
    "er_df_1, er_df_2 = process_stage_2(balance, 30)\n",
    "display(er_df_1.reason.value_counts())\n",
    "display(er_df_2.reason.value_counts())\n",
    "\n",
    "assert(len(er_df_1) == 0) \n",
    "assert(len(er_df_2) == 0) "
   ]
  },
  {
   "cell_type": "code",
   "execution_count": null,
   "metadata": {},
   "outputs": [],
   "source": [
    "er_df_1"
   ]
  },
  {
   "cell_type": "code",
   "execution_count": null,
   "metadata": {
    "scrolled": true
   },
   "outputs": [],
   "source": [
    "er_df_2"
   ]
  },
  {
   "cell_type": "markdown",
   "metadata": {},
   "source": [
    "### Stage 3"
   ]
  },
  {
   "cell_type": "code",
   "execution_count": 25,
   "metadata": {},
   "outputs": [],
   "source": [
    "def get_min_gr(y3, y5, y10):\n",
    "    y = [y3, y5, y10]\n",
    "    y = [x for x in y if x > 0.0]\n",
    "    if len(y) == 0:\n",
    "        y = [0.0]\n",
    "    return min(y)"
   ]
  },
  {
   "cell_type": "code",
   "execution_count": 26,
   "metadata": {},
   "outputs": [
    {
     "name": "stderr",
     "output_type": "stream",
     "text": [
      "  4%|██▊                                                                           | 25/684 [00:00<00:11, 57.78it/s]d:\\anaconda3\\envs\\tensorflow\\lib\\site-packages\\numpy\\core\\fromnumeric.py:3335: RuntimeWarning: Mean of empty slice.\n",
      "  out=out, **kwargs)\n",
      "d:\\anaconda3\\envs\\tensorflow\\lib\\site-packages\\numpy\\core\\_methods.py:161: RuntimeWarning: invalid value encountered in double_scalars\n",
      "  ret = ret.dtype.type(ret / rcount)\n",
      "100%|████████████████████████████████████████████████████████████████████████████| 684/684 [00:06<00:00, 102.41it/s]\n"
     ]
    }
   ],
   "source": [
    "error3, result3, symbol= [], [], ['—','\\xa0-\\xa0']\n",
    "for i in tqdm(data2.code.unique()):\n",
    "    stock      = data2[data2.code == str(i).zfill(4)]\n",
    "    net_profit = [int(x.replace(',','')) for x in stock[stock.detail=='NP'].values[0][3:] if x not in symbol]\n",
    "    nYear      = len(net_profit)\n",
    "    if nYear >= 5:\n",
    "#         try:\n",
    "        temp           = [0 if x > 0.0 else 1 for x in net_profit]\n",
    "        np_check       = 1 if sum(temp) == 0 else 0 # All positive net profit\n",
    "        neg_np         = '+' if np_check == 1 else '+'.join([str(n+1) for n, x in enumerate(temp) if x == 1]) # Position of negative net profit\n",
    "        np_gr_3y_avg   = [float(x.replace(',','')) if x not in symbol else 0.0 for x in stock[stock.detail=='NP GR 3Y avg'].values[0][3:3+nYear]]\n",
    "        np_gr_5y_avg   = [float(x.replace(',','')) if x not in symbol else 0.0 for x in stock[stock.detail=='NP GR 5Y avg'].values[0][3:3+nYear]]\n",
    "        np_gr_10y_avg  = [float(x.replace(',','')) if x not in symbol else 0.0 for x in stock[stock.detail=='NP GR 10Y avg'].values[0][3:3+nYear]]\n",
    "        if len(np_gr_3y_avg) == 0:\n",
    "            np_gr_3y_avg = [0.0]\n",
    "        if len(np_gr_5y_avg) == 0:\n",
    "            np_gr_5y_avg = [0.0]\n",
    "        if len(np_gr_10y_avg) == 0:\n",
    "            np_gr_10y_avg = [0.0]\n",
    "        \n",
    "        ocf            = [int(x.replace(',','')) if x not in symbol else 0 for x in stock[stock.detail=='OCF'].values[0][3:3+nYear]]\n",
    "        ocf_start      = ocf[-1]\n",
    "        ocf_end        = ocf[0]\n",
    "        temp           = [0 if x > 0.0 else 1 for x in ocf]\n",
    "        ocf_check      = 1 if sum(temp) == 0 else 0\n",
    "        neg_ocf        = '+' if ocf_check == 1 else '+'.join([str(n+1) for n, x in enumerate(temp) if x == 1])\n",
    "\n",
    "        rvnu           = [int(x.replace(',','')) if x not in symbol else 0 for x in stock[stock.detail=='Revenue'].values[0][3:3+nYear]]\n",
    "        rvnu_start     = rvnu[-1]\n",
    "        rvnu_end       = rvnu[0]\n",
    "        rvnu_gr        = [float(x.replace(',','')) if x not in symbol else 0.0 for x in stock[stock.detail=='Revenue GR'].values[0][3:3+nYear]]\n",
    "        temp           = [0 if x > 0.0 else 1 for x in rvnu_gr]\n",
    "        rvnu_gr_check  = 1 if sum(temp) == 0 else 0\n",
    "        neg_rvnu_gr    = '+' if rvnu_gr_check == 1 else '+'.join([str(n+1) for n, x in enumerate(temp) if x == 1])\n",
    "        rev_gr_3y_avg  = [float(x.replace(',','')) if x not in symbol else 0.0 for x in stock[stock.detail=='Revenue GR 3Y avg'].values[0][3:3+nYear]]\n",
    "        rev_gr_5y_avg  = [float(x.replace(',','')) if x not in symbol else 0.0 for x in stock[stock.detail=='Revenue GR 5Y avg'].values[0][3:3+nYear]]\n",
    "        rev_gr_10y_avg = [float(x.replace(',','')) if x not in symbol else 0.0 for x in stock[stock.detail=='Revenue GR 10Y avg'].values[0][3:3+nYear]]\n",
    "        if len(rev_gr_3y_avg) == 0:\n",
    "            rev_gr_3y_avg = [0.0]\n",
    "        if len(rev_gr_5y_avg) == 0:\n",
    "            rev_gr_5y_avg = [0.0]\n",
    "        if len(rev_gr_10y_avg) == 0:\n",
    "            rev_gr_10y_avg = [0.0]\n",
    "        \n",
    "        nosh           = [int(x.replace(',','')) if x not in symbol else 0 for x in stock[stock.detail=='Shares'].values[0][3:3+nYear]]\n",
    "        price          = [float(str(x).replace(',','')) if x not in symbol else 0.0 for x in stock[stock.detail=='Price'].values[0][3:3+nYear]]\n",
    "\n",
    "        np_margin      = [float(x.replace(',','')) for x in stock[stock.detail=='NP Margin'].values[0][2:] if x not in symbol]\n",
    "        np_margin_avg  = np.around(np.mean(np_margin), 2)\n",
    "\n",
    "        eps            = [float(x.replace(',','')) if x not in symbol else 0.0 for x in stock[stock.detail=='EPS'].values[0][3:3+nYear]]\n",
    "        eps_start      = eps[-1]\n",
    "        eps_end        = eps[0]\n",
    "        eps_gr         = [float(x.replace(',','')) if x not in symbol else 0.0 for x in stock[stock.detail=='EPS GR'].values[0][3:3+nYear]]\n",
    "        temp           = [0 if x > 0.0 else 1 for x in eps_gr]\n",
    "        eps_gr_check   = 1 if sum(temp) == 0 else 0\n",
    "        neg_eps_gr     = '+' if eps_gr_check == 1 else '+'.join([str(n+1) for n, x in enumerate(temp) if x == 1])\n",
    "#         eps_gr_avg     = np.around(np.mean(eps_gr), 2)\n",
    "#         eps_cagr       = np.around(((eps[0]/eps[-1])**(1/(len(eps)-1))-1)*100, 2)\n",
    "        eps_gr_3y_avg  = [float(x.replace(',','')) if x not in symbol else 0.0 for x in stock[stock.detail=='EPS GR 3Y avg'].values[0][3:3+nYear]]\n",
    "        eps_gr_5y_avg  = [float(x.replace(',','')) if x not in symbol else 0.0 for x in stock[stock.detail=='EPS GR 5Y avg'].values[0][3:3+nYear]]\n",
    "        eps_gr_10y_avg = [float(x.replace(',','')) if x not in symbol else 0.0 for x in stock[stock.detail=='EPS GR 10Y avg'].values[0][3:3+nYear]]\n",
    "        if len(eps_gr_3y_avg) == 0:\n",
    "            eps_gr_3y_avg = [0.0]\n",
    "        if len(eps_gr_5y_avg) == 0:\n",
    "            eps_gr_5y_avg = [0.0]\n",
    "        if len(eps_gr_10y_avg) == 0:\n",
    "            eps_gr_10y_avg = [0.0]\n",
    "        eps_gr_min     = get_min_gr(eps_gr_3y_avg[0],eps_gr_5y_avg[0],eps_gr_10y_avg[0])\n",
    "\n",
    "        ey             = [np.around(eps[x]/price[x]*100, 2) for x in range(len(price)) if price[x] != 0]# EPS / Price\n",
    "        ey_avg         = np.around(np.mean(ey),2)\n",
    "        ey_std         = np.around(np.std(ey), 2)\n",
    "        ey_3y_avg      = np.around(np.mean(ey[:3]), 2) if len(ey) >= 3 else 0.0\n",
    "        ey_5y_avg      = np.around(np.mean(ey[:5]), 2) if len(ey) >= 5 else 0.0\n",
    "        ey_10y_avg     = np.around(np.mean(ey), 2) if len(ey) == 10 else 0.0\n",
    "        \n",
    "        pe             = [np.around(price[x]/eps[x], 2) for x in range(len(price)) if eps[x] != 0]# Price / EPS\n",
    "        if len(pe) == 0:\n",
    "            pe = [0.0]\n",
    "        pe_min         = min(pe)\n",
    "        pe_max         = max(pe)\n",
    "        pe_mid         = np.around((pe_max + pe_min)/2, 2)\n",
    "        pe             = [x for x in pe if x > 0.0]\n",
    "        pe_avg         = np.around(np.mean(pe), 2)\n",
    "\n",
    "        dpayout        = [float(x.replace(',','')) if x not in symbol else 0.0 for x in stock[stock.detail=='Div Payout'].values[0][3:3+nYear]]\n",
    "        if len(dpayout) == 0:\n",
    "            dpayout = [0.0]\n",
    "        dpayout_avg    = np.around(np.mean(dpayout), 2)\n",
    "\n",
    "        dps            = [float(x.replace(',','')) if x not in symbol else 0.0 for x in stock[stock.detail=='DPS'].values[0][3:3+nYear]]\n",
    "        if len(dps) == 0:\n",
    "            dps = [0.0]\n",
    "        dy             = [np.around(dps[x]/price[x]*100, 2) for x in range(len(price)) if price[x] != 0]# DPS / Price\n",
    "        dy_avg         = np.around(np.mean(dy),2)\n",
    "        dy_3y_avg      = np.around(np.mean(dy[:3]), 2) if len(dy) >= 3 else 0.0\n",
    "        dy_5y_avg      = np.around(np.mean(dy[:5]), 2) if len(dy) >= 5 else 0.0\n",
    "        dy_10y_avg     = np.around(np.mean(dy), 2) if len(dy) == 10 else 0.0\n",
    "\n",
    "#         dates          = [datetime.strptime(x, '%Y-%m') for x in stock[stock.detail=='Year End'].values[0][2:] if x not in symbol]\n",
    "#         annual         = dates[0]  \n",
    "        annual         = datetime.strptime(stock[stock.detail=='Year End'].values[0][3], '%Y-%m')\n",
    "\n",
    "        result3.append([str(i), annual, nYear, np_margin_avg,  \n",
    "                        pe_min, pe_max, pe_mid, pe_avg,\n",
    "                        eps_gr_min, ey_avg, ey_std, ey_3y_avg, ey_5y_avg, ey_10y_avg, \n",
    "                        dy_avg, dy_3y_avg, dy_5y_avg, dy_10y_avg, dpayout_avg,\n",
    "                        rev_gr_3y_avg[0], rev_gr_5y_avg[0], rev_gr_10y_avg[0],\n",
    "                        np_gr_3y_avg[0], np_gr_5y_avg[0], np_gr_10y_avg[0],\n",
    "                        eps_gr_3y_avg[0], eps_gr_5y_avg[0], eps_gr_10y_avg[0], \n",
    "                        np_check, eps_gr_check, ocf_check, neg_rvnu_gr, neg_np, neg_eps_gr, neg_ocf,\n",
    "                        rvnu_start, rvnu_end, eps_start, eps_end, ocf_start, ocf_end])\n",
    "#         except:\n",
    "#             error3.append([str(i), 'Calculation Error'])\n",
    "    else:\n",
    "        error3.append([str(i), 'Less than 5 years'])"
   ]
  },
  {
   "cell_type": "code",
   "execution_count": 27,
   "metadata": {
    "scrolled": false
   },
   "outputs": [
    {
     "data": {
      "text/plain": [
       "Less than 5 years    18\n",
       "Name: reason, dtype: int64"
      ]
     },
     "metadata": {},
     "output_type": "display_data"
    },
    {
     "name": "stdout",
     "output_type": "stream",
     "text": [
      "(666, 56)\n"
     ]
    },
    {
     "data": {
      "text/html": [
       "<div>\n",
       "<style scoped>\n",
       "    .dataframe tbody tr th:only-of-type {\n",
       "        vertical-align: middle;\n",
       "    }\n",
       "\n",
       "    .dataframe tbody tr th {\n",
       "        vertical-align: top;\n",
       "    }\n",
       "\n",
       "    .dataframe thead th {\n",
       "        text-align: right;\n",
       "    }\n",
       "</style>\n",
       "<table border=\"1\" class=\"dataframe\">\n",
       "  <thead>\n",
       "    <tr style=\"text-align: right;\">\n",
       "      <th></th>\n",
       "      <th>code</th>\n",
       "      <th>name</th>\n",
       "      <th>category</th>\n",
       "      <th>Annual</th>\n",
       "      <th>nYear</th>\n",
       "      <th>Price</th>\n",
       "      <th>52w low</th>\n",
       "      <th>52w high</th>\n",
       "      <th>BVPS</th>\n",
       "      <th>P/E</th>\n",
       "      <th>...</th>\n",
       "      <th>neg Revenue GR</th>\n",
       "      <th>neg NP</th>\n",
       "      <th>neg EPS GR</th>\n",
       "      <th>neg OCF</th>\n",
       "      <th>Revenue start</th>\n",
       "      <th>Revenue end</th>\n",
       "      <th>EPS start</th>\n",
       "      <th>EPS end</th>\n",
       "      <th>OCF start</th>\n",
       "      <th>OCF end</th>\n",
       "    </tr>\n",
       "  </thead>\n",
       "  <tbody>\n",
       "    <tr>\n",
       "      <th>0</th>\n",
       "      <td>0001</td>\n",
       "      <td>SUPERCOMNET TECHNOLOGIES BERHAD</td>\n",
       "      <td>Health Care</td>\n",
       "      <td>2019-12-01</td>\n",
       "      <td>9</td>\n",
       "      <td>1.97</td>\n",
       "      <td>0.314</td>\n",
       "      <td>2.38</td>\n",
       "      <td>0.3398</td>\n",
       "      <td>68.0</td>\n",
       "      <td>...</td>\n",
       "      <td>4+7</td>\n",
       "      <td>+</td>\n",
       "      <td>4+7+8+9</td>\n",
       "      <td>3+4+5+6+8</td>\n",
       "      <td>35</td>\n",
       "      <td>123</td>\n",
       "      <td>0.02</td>\n",
       "      <td>0.03</td>\n",
       "      <td>4</td>\n",
       "      <td>24</td>\n",
       "    </tr>\n",
       "  </tbody>\n",
       "</table>\n",
       "<p>1 rows × 56 columns</p>\n",
       "</div>"
      ],
      "text/plain": [
       "   code                             name     category     Annual  nYear  \\\n",
       "0  0001  SUPERCOMNET TECHNOLOGIES BERHAD  Health Care 2019-12-01      9   \n",
       "\n",
       "   Price  52w low  52w high    BVPS   P/E  ...  neg Revenue GR  neg NP  \\\n",
       "0   1.97    0.314      2.38  0.3398  68.0  ...             4+7       +   \n",
       "\n",
       "   neg EPS GR    neg OCF  Revenue start  Revenue end  EPS start  EPS end  \\\n",
       "0     4+7+8+9  3+4+5+6+8             35          123       0.02     0.03   \n",
       "\n",
       "   OCF start  OCF end  \n",
       "0          4       24  \n",
       "\n",
       "[1 rows x 56 columns]"
      ]
     },
     "metadata": {},
     "output_type": "display_data"
    }
   ],
   "source": [
    "er_df_3 = pd.DataFrame(error3, columns=['code','reason'])\n",
    "display(er_df_3.reason.value_counts())\n",
    "\n",
    "data3 = pd.DataFrame(result3, columns=['code','Annual','nYear','NPM avg',\n",
    "                                       'P/E min','P/E max','P/E mid','P/E avg','EPS GR min',\n",
    "                                       'EY avg','EY std','EY 3Y avg','EY 5Y avg','EY 10Y avg',\n",
    "                                       'DY avg','DY 3Y avg','DY 5Y avg','DY 10Y avg','DPayout avg',\n",
    "                                       'Revenue GR 3Y avg','Revenue GR 5Y avg','Revenue GR 10Y avg',\n",
    "                                       'NP GR 3Y avg','NP GR 5Y avg','NP GR 10Y avg',\n",
    "                                       'EPS GR 3Y avg','EPS GR 5Y avg','EPS GR 10Y avg',\n",
    "                                       'check NP','check EPS GR','check OCF','neg Revenue GR','neg NP','neg EPS GR','neg OCF',\n",
    "                                       'Revenue start','Revenue end','EPS start','EPS end','OCF start','OCF end'])\n",
    "data3 = data3.merge(stock_code,'left')\n",
    "data3 = data3.merge(data1,'left')\n",
    "temp = data3.columns.tolist()\n",
    "data3 = data3[temp[:1]+temp[-15:-13]+temp[1:3]+temp[-13:]+temp[3:-15]]\n",
    "# data3 = data3[data3['check NP']==1]\n",
    "# data3 = data3[data3['check OCF']==1]\n",
    "print(data3.shape)\n",
    "data3.to_csv(out_dir+'klse_03_stage_3.csv',index=False)\n",
    "display(data3.head(1))"
   ]
  },
  {
   "cell_type": "code",
   "execution_count": 28,
   "metadata": {
    "scrolled": true
   },
   "outputs": [
    {
     "data": {
      "text/plain": [
       "[['0094', 'Less than 5 years'],\n",
       " ['0175', 'Less than 5 years'],\n",
       " ['0211', 'Less than 5 years'],\n",
       " ['0217', 'Less than 5 years'],\n",
       " ['0218', 'Less than 5 years'],\n",
       " ['0219', 'Less than 5 years'],\n",
       " ['0220', 'Less than 5 years'],\n",
       " ['0222', 'Less than 5 years'],\n",
       " ['0223', 'Less than 5 years'],\n",
       " ['0225', 'Less than 5 years'],\n",
       " ['0227', 'Less than 5 years'],\n",
       " ['0228', 'Less than 5 years'],\n",
       " ['5229', 'Less than 5 years'],\n",
       " ['5256', 'Less than 5 years'],\n",
       " ['5269', 'Less than 5 years'],\n",
       " ['5280', 'Less than 5 years'],\n",
       " ['5295', 'Less than 5 years'],\n",
       " ['5296', 'Less than 5 years']]"
      ]
     },
     "execution_count": 28,
     "metadata": {},
     "output_type": "execute_result"
    }
   ],
   "source": [
    "error3"
   ]
  },
  {
   "cell_type": "code",
   "execution_count": 29,
   "metadata": {},
   "outputs": [
    {
     "data": {
      "text/plain": [
       "Index(['code', 'name', 'category', 'Annual', 'nYear', 'Price', '52w low',\n",
       "       '52w high', 'BVPS', 'P/E', 'EPS', 'EY', 'DPS', 'DY', 'ROE', 'ROE2',\n",
       "       'D/E', 'D/E2', 'NPM avg', 'P/E min', 'P/E max', 'P/E mid', 'P/E avg',\n",
       "       'EPS GR min', 'EY avg', 'EY std', 'EY 3Y avg', 'EY 5Y avg',\n",
       "       'EY 10Y avg', 'DY avg', 'DY 3Y avg', 'DY 5Y avg', 'DY 10Y avg',\n",
       "       'DPayout avg', 'Revenue GR 3Y avg', 'Revenue GR 5Y avg',\n",
       "       'Revenue GR 10Y avg', 'NP GR 3Y avg', 'NP GR 5Y avg', 'NP GR 10Y avg',\n",
       "       'EPS GR 3Y avg', 'EPS GR 5Y avg', 'EPS GR 10Y avg', 'check NP',\n",
       "       'check EPS GR', 'check OCF', 'neg Revenue GR', 'neg NP', 'neg EPS GR',\n",
       "       'neg OCF', 'Revenue start', 'Revenue end', 'EPS start', 'EPS end',\n",
       "       'OCF start', 'OCF end'],\n",
       "      dtype='object')"
      ]
     },
     "execution_count": 29,
     "metadata": {},
     "output_type": "execute_result"
    }
   ],
   "source": [
    "data3.columns"
   ]
  },
  {
   "cell_type": "markdown",
   "metadata": {},
   "source": [
    "### Stage 4"
   ]
  },
  {
   "cell_type": "code",
   "execution_count": 30,
   "metadata": {},
   "outputs": [],
   "source": [
    "def get_intrinsic(eps, eps_gr, pe_mid, dpayout_avg):\n",
    "    eps_10y        = [np.around(eps * ((1 + (eps_gr / 100))**i) ,2) for i in range(n_year)]\n",
    "    total_eps      = np.around(sum(eps_10y), 2)\n",
    "    expected_price = np.around(eps_10y[-1] * pe_mid,2)\n",
    "    total_dvd      = np.around(total_eps * (dpayout_avg / 100), 2)\n",
    "    total_return   = np.around(total_eps + total_dvd, 2)\n",
    "    intrinsic      = np.around(total_return / ((1 + (eps_gr / 100))**n_year), 2)\n",
    "    return intrinsic"
   ]
  },
  {
   "cell_type": "code",
   "execution_count": 31,
   "metadata": {
    "scrolled": true
   },
   "outputs": [
    {
     "name": "stderr",
     "output_type": "stream",
     "text": [
      "100%|███████████████████████████████████████████████████████████████████████████| 666/666 [00:00<00:00, 1729.48it/s]\n"
     ]
    },
    {
     "name": "stdout",
     "output_type": "stream",
     "text": [
      "(666, 18)\n"
     ]
    },
    {
     "data": {
      "text/html": [
       "<div>\n",
       "<style scoped>\n",
       "    .dataframe tbody tr th:only-of-type {\n",
       "        vertical-align: middle;\n",
       "    }\n",
       "\n",
       "    .dataframe tbody tr th {\n",
       "        vertical-align: top;\n",
       "    }\n",
       "\n",
       "    .dataframe thead th {\n",
       "        text-align: right;\n",
       "    }\n",
       "</style>\n",
       "<table border=\"1\" class=\"dataframe\">\n",
       "  <thead>\n",
       "    <tr style=\"text-align: right;\">\n",
       "      <th></th>\n",
       "      <th>code</th>\n",
       "      <th>name</th>\n",
       "      <th>Price</th>\n",
       "      <th>EPS</th>\n",
       "      <th>52w low</th>\n",
       "      <th>52w high</th>\n",
       "      <th>EPS GR 3Y avg</th>\n",
       "      <th>EPS GR 5Y avg</th>\n",
       "      <th>EPS GR 10Y avg</th>\n",
       "      <th>P/E mid</th>\n",
       "      <th>DPayout avg</th>\n",
       "      <th>intrinsic 3Y</th>\n",
       "      <th>intrinsic 5Y</th>\n",
       "      <th>intrinsic 10Y</th>\n",
       "      <th>Price A3</th>\n",
       "      <th>Price A5</th>\n",
       "      <th>Price A10</th>\n",
       "      <th>Price B</th>\n",
       "    </tr>\n",
       "  </thead>\n",
       "  <tbody>\n",
       "    <tr>\n",
       "      <th>0</th>\n",
       "      <td>0001</td>\n",
       "      <td>SUPERCOMNET TECHNOLOGIES BERHAD</td>\n",
       "      <td>1.97</td>\n",
       "      <td>0.03</td>\n",
       "      <td>0.314</td>\n",
       "      <td>2.38</td>\n",
       "      <td>45.86</td>\n",
       "      <td>56.56</td>\n",
       "      <td>0.0</td>\n",
       "      <td>23.0</td>\n",
       "      <td>16.41</td>\n",
       "      <td>0.07</td>\n",
       "      <td>0.06</td>\n",
       "      <td>0.35</td>\n",
       "      <td>0.05</td>\n",
       "      <td>0.04</td>\n",
       "      <td>0.26</td>\n",
       "      <td>1.0</td>\n",
       "    </tr>\n",
       "  </tbody>\n",
       "</table>\n",
       "</div>"
      ],
      "text/plain": [
       "   code                             name  Price   EPS  52w low  52w high  \\\n",
       "0  0001  SUPERCOMNET TECHNOLOGIES BERHAD   1.97  0.03    0.314      2.38   \n",
       "\n",
       "   EPS GR 3Y avg  EPS GR 5Y avg  EPS GR 10Y avg  P/E mid  DPayout avg  \\\n",
       "0          45.86          56.56             0.0     23.0        16.41   \n",
       "\n",
       "   intrinsic 3Y  intrinsic 5Y  intrinsic 10Y  Price A3  Price A5  Price A10  \\\n",
       "0          0.07          0.06           0.35      0.05      0.04       0.26   \n",
       "\n",
       "   Price B  \n",
       "0      1.0  "
      ]
     },
     "execution_count": 31,
     "metadata": {},
     "output_type": "execute_result"
    }
   ],
   "source": [
    "data4 = data3[['code','name','Price','EPS','52w low','52w high','EPS GR 3Y avg', 'EPS GR 5Y avg', 'EPS GR 10Y avg', \n",
    "               'P/E mid','DPayout avg']].copy()\n",
    "n_year = 10\n",
    "result4 = []\n",
    "for n, x in tqdm(data4.iterrows(), total=len(data4)):\n",
    "#     eps_10y = [np.around(x['EPS'] * ((1 + (x['EPS GR min'] / 100))**i) ,2) for i in range(n_year)]\n",
    "#     total_eps = np.around(sum(eps_10y), 2)\n",
    "#     expected_price = np.around(eps_10y[-1] * x['P/E mid'],2)\n",
    "#     total_dvd = np.around(total_eps * (x['DPayout avg'] / 100), 2)\n",
    "#     total_return = np.around(total_eps + total_dvd, 2)\n",
    "#     intrinsic = np.around(total_return / ((1 + (x['EPS GR min'] / 100))**n_year), 2)\n",
    "    intrinsic_3y  = get_intrinsic(x['EPS'], x['EPS GR 3Y avg'], x['P/E mid'], x['DPayout avg'])\n",
    "    intrinsic_5y  = get_intrinsic(x['EPS'], x['EPS GR 5Y avg'], x['P/E mid'], x['DPayout avg'])\n",
    "    intrinsic_10y = get_intrinsic(x['EPS'], x['EPS GR 10Y avg'], x['P/E mid'], x['DPayout avg'])\n",
    "    price_A3      = np.around(intrinsic_3y * 0.75, 2)\n",
    "    price_A5      = np.around(intrinsic_5y * 0.75, 2)\n",
    "    price_A10     = np.around(intrinsic_10y * 0.75, 2)\n",
    "    price_B       = np.around((x['52w high'] - x['52w low']) * 0.33 + x['52w low'], 2)\n",
    "    result4.append([str(x['code']), intrinsic_3y, intrinsic_5y, intrinsic_10y, price_A3, price_A5, price_A10, price_B])\n",
    "\n",
    "data4 = data4.merge(pd.DataFrame(result4, columns=['code','intrinsic 3Y','intrinsic 5Y','intrinsic 10Y',\n",
    "                                                   'Price A3','Price A5','Price A10','Price B']))\n",
    "print(data4.shape)\n",
    "data4.to_csv(out_dir+'klse_04_intrinsic.csv',index=False)\n",
    "data4.head(1)"
   ]
  },
  {
   "cell_type": "code",
   "execution_count": 32,
   "metadata": {},
   "outputs": [
    {
     "data": {
      "text/plain": [
       "Index(['code', 'name', 'Price', 'EPS', '52w low', '52w high', 'EPS GR 3Y avg',\n",
       "       'EPS GR 5Y avg', 'EPS GR 10Y avg', 'P/E mid', 'DPayout avg',\n",
       "       'intrinsic 3Y', 'intrinsic 5Y', 'intrinsic 10Y', 'Price A3', 'Price A5',\n",
       "       'Price A10', 'Price B'],\n",
       "      dtype='object')"
      ]
     },
     "execution_count": 32,
     "metadata": {},
     "output_type": "execute_result"
    }
   ],
   "source": [
    "data4.columns"
   ]
  },
  {
   "cell_type": "code",
   "execution_count": 33,
   "metadata": {},
   "outputs": [],
   "source": [
    "# Stocks which have prices lower than fair value price B\n",
    "# data4[data4.Price < data4.Price_B]"
   ]
  },
  {
   "cell_type": "markdown",
   "metadata": {},
   "source": [
    "### Stage 5"
   ]
  },
  {
   "cell_type": "markdown",
   "metadata": {},
   "source": [
    "Earning Yield Level:\n",
    "    - 5  PE <=6.67    EY >=15%         DY >=3%\n",
    "    - 4  PE >6.67-10  EY 10%-<15%      DY 2.5%-<3%\n",
    "    - 3  PE >10-20    EY 5%-<10%       DY 2%-<2.5%\n",
    "    - 2  PE >20-30    EY 3.33%-<5%     DY 1.5%-<2%\n",
    "    - 1  PE >30-40    EY 2.5%-<3.33%   DY 1%-<1.5%\n",
    "    - 0  PE >4        EY <2.5%         DY <1%"
   ]
  },
  {
   "cell_type": "code",
   "execution_count": 34,
   "metadata": {},
   "outputs": [
    {
     "name": "stdout",
     "output_type": "stream",
     "text": [
      "(666, 28)\n"
     ]
    },
    {
     "data": {
      "text/html": [
       "<div>\n",
       "<style scoped>\n",
       "    .dataframe tbody tr th:only-of-type {\n",
       "        vertical-align: middle;\n",
       "    }\n",
       "\n",
       "    .dataframe tbody tr th {\n",
       "        vertical-align: top;\n",
       "    }\n",
       "\n",
       "    .dataframe thead th {\n",
       "        text-align: right;\n",
       "    }\n",
       "</style>\n",
       "<table border=\"1\" class=\"dataframe\">\n",
       "  <thead>\n",
       "    <tr style=\"text-align: right;\">\n",
       "      <th></th>\n",
       "      <th>code</th>\n",
       "      <th>nYear</th>\n",
       "      <th>Revenue start</th>\n",
       "      <th>Revenue end</th>\n",
       "      <th>EPS start</th>\n",
       "      <th>EPS end</th>\n",
       "      <th>OCF start</th>\n",
       "      <th>OCF end</th>\n",
       "      <th>ROE</th>\n",
       "      <th>ROE2</th>\n",
       "      <th>...</th>\n",
       "      <th>neg EPS count</th>\n",
       "      <th>neg OCF count</th>\n",
       "      <th>Revenue Growth</th>\n",
       "      <th>EPS Growth</th>\n",
       "      <th>OCF Growth</th>\n",
       "      <th>ROE Health</th>\n",
       "      <th>D/E Health</th>\n",
       "      <th>3G2H</th>\n",
       "      <th>PE Value</th>\n",
       "      <th>EPS GR Value</th>\n",
       "    </tr>\n",
       "  </thead>\n",
       "  <tbody>\n",
       "    <tr>\n",
       "      <th>0</th>\n",
       "      <td>4731</td>\n",
       "      <td>10</td>\n",
       "      <td>804</td>\n",
       "      <td>3517</td>\n",
       "      <td>0.06</td>\n",
       "      <td>0.25</td>\n",
       "      <td>111</td>\n",
       "      <td>715</td>\n",
       "      <td>5.03</td>\n",
       "      <td>16.3</td>\n",
       "      <td>...</td>\n",
       "      <td>0</td>\n",
       "      <td>0</td>\n",
       "      <td>1.0</td>\n",
       "      <td>1.0</td>\n",
       "      <td>1.0</td>\n",
       "      <td>0.5</td>\n",
       "      <td>1.0</td>\n",
       "      <td>4.5</td>\n",
       "      <td>13.63</td>\n",
       "      <td>2.92</td>\n",
       "    </tr>\n",
       "  </tbody>\n",
       "</table>\n",
       "<p>1 rows × 28 columns</p>\n",
       "</div>"
      ],
      "text/plain": [
       "   code  nYear  Revenue start  Revenue end  EPS start  EPS end  OCF start  \\\n",
       "0  4731     10            804         3517       0.06     0.25        111   \n",
       "\n",
       "   OCF end   ROE  ROE2  ...  neg EPS count  neg OCF count  Revenue Growth  \\\n",
       "0      715  5.03  16.3  ...              0              0             1.0   \n",
       "\n",
       "   EPS Growth  OCF Growth ROE Health D/E Health  3G2H  PE Value  EPS GR Value  \n",
       "0         1.0         1.0        0.5        1.0   4.5     13.63          2.92  \n",
       "\n",
       "[1 rows x 28 columns]"
      ]
     },
     "execution_count": 34,
     "metadata": {},
     "output_type": "execute_result"
    }
   ],
   "source": [
    "data5 = data3[['code','nYear','neg Revenue GR','neg EPS GR','neg OCF','Revenue start','Revenue end','EPS start','EPS end',\n",
    "               'OCF start','OCF end','ROE','ROE2','D/E','D/E2','P/E mid','EPS','EPS GR min']].copy()\n",
    "ey_level = [min(data3['EY']),2.5,3.33,5,10,15,max(max(data3['EY']),9999)+1]\n",
    "dy_level = [min(data3['DY']),1,1.5,2,2.5,3,max(max(data3['DY']),9999)+1]\n",
    "ey_label = [0,1,2,3,4,5]\n",
    "data5['EY level'] = pd.cut(data3['EY'], ey_level, False, ey_label)\n",
    "data5['DY level'] = pd.cut(data3['DY'], dy_level, False, ey_label)\n",
    "data5['neg Revenue count'] = data5['neg Revenue GR'].apply(lambda x: len(x.split('+')) if x != '+' else 0)\n",
    "data5['neg EPS count'] = data5['neg EPS GR'].apply(lambda x: len(x.split('+')) if x != '+' else 0)\n",
    "data5['neg OCF count'] = data5['neg OCF'].apply(lambda x: len(x.split('+')) if x != '+' else 0)\n",
    "data5['Revenue Growth'] = data5.apply(lambda x: 1 if x['Revenue end']>=x['Revenue start'] and x['neg Revenue count']==0 else\n",
    "                                        0.5 if x['Revenue end']>=x['Revenue start'] and x['neg Revenue count']<=3 else 0, axis=1)\n",
    "data5['EPS Growth'] = data5.apply(lambda x: 1 if x['EPS end']>=x['EPS start'] and x['neg EPS count']==0 else\n",
    "                                    0.5 if x['EPS end']>=x['EPS start'] and x['neg EPS count']<=2 else 0, axis=1)\n",
    "data5['OCF Growth'] = data5.apply(lambda x: 1 if x['OCF end']>=x['OCF start'] and x['neg OCF count']==0 else\n",
    "                                    0.5 if x['OCF end']>=x['OCF start'] and x['neg OCF count']<=3 else 0, axis=1)\n",
    "data5['ROE Health'] = data5.apply(lambda x: 1 if x['ROE']>=15 else 0.5 if x['ROE2']>=15 else 0, axis=1)\n",
    "data5['D/E Health'] = data5.apply(lambda x: 1 if x['D/E']<=0.5 else 0.5 if x['D/E2']<=0.5 else 0, axis=1)\n",
    "data5['3G2H'] = data5['Revenue Growth']+data5['EPS Growth']+data5['OCF Growth']+data5['ROE Health']+data5['D/E Health']\n",
    "data5['PE Value'] = np.around(data5['P/E mid']*data5['EPS'], 2)\n",
    "data5['EPS GR Value'] = np.around(data5['EPS']*data5['EPS GR min'], 2)\n",
    "data5.drop(columns=['neg Revenue GR','neg EPS GR','neg OCF'], inplace=True)\n",
    "data5.sort_values('3G2H', inplace=True, ascending=False)\n",
    "data5.reset_index(drop=True, inplace=True)\n",
    "print(data5.shape)\n",
    "data5.to_csv(out_dir+'klse_05_3G2H_score_with_valuation.csv',index=False)\n",
    "data5.head(1)"
   ]
  },
  {
   "cell_type": "code",
   "execution_count": 35,
   "metadata": {},
   "outputs": [
    {
     "data": {
      "text/plain": [
       "Index(['code', 'nYear', 'Revenue start', 'Revenue end', 'EPS start', 'EPS end',\n",
       "       'OCF start', 'OCF end', 'ROE', 'ROE2', 'D/E', 'D/E2', 'P/E mid', 'EPS',\n",
       "       'EPS GR min', 'EY level', 'DY level', 'neg Revenue count',\n",
       "       'neg EPS count', 'neg OCF count', 'Revenue Growth', 'EPS Growth',\n",
       "       'OCF Growth', 'ROE Health', 'D/E Health', '3G2H', 'PE Value',\n",
       "       'EPS GR Value'],\n",
       "      dtype='object')"
      ]
     },
     "execution_count": 35,
     "metadata": {},
     "output_type": "execute_result"
    }
   ],
   "source": [
    "data5.columns"
   ]
  },
  {
   "cell_type": "markdown",
   "metadata": {},
   "source": [
    "### Final Table"
   ]
  },
  {
   "cell_type": "code",
   "execution_count": 36,
   "metadata": {},
   "outputs": [
    {
     "name": "stdout",
     "output_type": "stream",
     "text": [
      "(666, 73)\n"
     ]
    },
    {
     "data": {
      "text/html": [
       "<div>\n",
       "<style scoped>\n",
       "    .dataframe tbody tr th:only-of-type {\n",
       "        vertical-align: middle;\n",
       "    }\n",
       "\n",
       "    .dataframe tbody tr th {\n",
       "        vertical-align: top;\n",
       "    }\n",
       "\n",
       "    .dataframe thead th {\n",
       "        text-align: right;\n",
       "    }\n",
       "</style>\n",
       "<table border=\"1\" class=\"dataframe\">\n",
       "  <thead>\n",
       "    <tr style=\"text-align: right;\">\n",
       "      <th></th>\n",
       "      <th>code</th>\n",
       "      <th>name</th>\n",
       "      <th>category</th>\n",
       "      <th>Annual</th>\n",
       "      <th>nYear</th>\n",
       "      <th>3G2H</th>\n",
       "      <th>PE Value</th>\n",
       "      <th>EPS GR Value</th>\n",
       "      <th>Price A5</th>\n",
       "      <th>Price A10</th>\n",
       "      <th>...</th>\n",
       "      <th>intrinsic 5Y</th>\n",
       "      <th>intrinsic 10Y</th>\n",
       "      <th>Price A3</th>\n",
       "      <th>EY level</th>\n",
       "      <th>DY level</th>\n",
       "      <th>Revenue Growth</th>\n",
       "      <th>EPS Growth</th>\n",
       "      <th>OCF Growth</th>\n",
       "      <th>ROE Health</th>\n",
       "      <th>D/E Health</th>\n",
       "    </tr>\n",
       "  </thead>\n",
       "  <tbody>\n",
       "    <tr>\n",
       "      <th>0</th>\n",
       "      <td>0012</td>\n",
       "      <td>THREE-A RESOURCES BERHAD</td>\n",
       "      <td>Consumer Products &amp; Services</td>\n",
       "      <td>2019-12-01</td>\n",
       "      <td>10</td>\n",
       "      <td>2.0</td>\n",
       "      <td>0.0</td>\n",
       "      <td>0.0</td>\n",
       "      <td>0.0</td>\n",
       "      <td>0.0</td>\n",
       "      <td>...</td>\n",
       "      <td>0.0</td>\n",
       "      <td>0.0</td>\n",
       "      <td>0.0</td>\n",
       "      <td>0</td>\n",
       "      <td>4</td>\n",
       "      <td>0.5</td>\n",
       "      <td>0.0</td>\n",
       "      <td>0.5</td>\n",
       "      <td>0.0</td>\n",
       "      <td>1.0</td>\n",
       "    </tr>\n",
       "  </tbody>\n",
       "</table>\n",
       "<p>1 rows × 73 columns</p>\n",
       "</div>"
      ],
      "text/plain": [
       "   code                      name                      category     Annual  \\\n",
       "0  0012  THREE-A RESOURCES BERHAD  Consumer Products & Services 2019-12-01   \n",
       "\n",
       "   nYear  3G2H  PE Value  EPS GR Value  Price A5  Price A10  ...  \\\n",
       "0     10   2.0       0.0           0.0       0.0        0.0  ...   \n",
       "\n",
       "   intrinsic 5Y  intrinsic 10Y  Price A3  EY level  DY level  Revenue Growth  \\\n",
       "0           0.0            0.0       0.0         0         4             0.5   \n",
       "\n",
       "   EPS Growth  OCF Growth  ROE Health  D/E Health  \n",
       "0         0.0         0.5         0.0         1.0  \n",
       "\n",
       "[1 rows x 73 columns]"
      ]
     },
     "execution_count": 36,
     "metadata": {},
     "output_type": "execute_result"
    }
   ],
   "source": [
    "final = data3.merge(data4.iloc[:,[0]+list(range(-7,0))])\\\n",
    "             .merge(data5.iloc[:,[0]+list(range(15,17))+list(range(-8,0))])\n",
    "temp = final.columns.tolist()\n",
    "final = final[temp[:5]+temp[-3:]+temp[-13:-10]+temp[5:-13]+temp[-10:-3]]\n",
    "print(final.shape)\n",
    "final.sort_values(['category','code'],inplace=True)\n",
    "final.reset_index(drop=True,inplace=True)\n",
    "final.to_csv(out_dir+'klse_06_final_table.csv',index=False)\n",
    "final.head(1)"
   ]
  },
  {
   "cell_type": "code",
   "execution_count": 37,
   "metadata": {},
   "outputs": [
    {
     "data": {
      "text/html": [
       "<div>\n",
       "<style scoped>\n",
       "    .dataframe tbody tr th:only-of-type {\n",
       "        vertical-align: middle;\n",
       "    }\n",
       "\n",
       "    .dataframe tbody tr th {\n",
       "        vertical-align: top;\n",
       "    }\n",
       "\n",
       "    .dataframe thead th {\n",
       "        text-align: right;\n",
       "    }\n",
       "</style>\n",
       "<table border=\"1\" class=\"dataframe\">\n",
       "  <thead>\n",
       "    <tr style=\"text-align: right;\">\n",
       "      <th></th>\n",
       "      <th>code</th>\n",
       "      <th>name</th>\n",
       "      <th>category</th>\n",
       "      <th>Annual</th>\n",
       "      <th>nYear</th>\n",
       "      <th>3G2H</th>\n",
       "      <th>PE Value</th>\n",
       "      <th>EPS GR Value</th>\n",
       "      <th>Price A5</th>\n",
       "      <th>Price A10</th>\n",
       "      <th>Price B</th>\n",
       "      <th>Price</th>\n",
       "      <th>52w low</th>\n",
       "      <th>52w high</th>\n",
       "      <th>BVPS</th>\n",
       "    </tr>\n",
       "  </thead>\n",
       "  <tbody>\n",
       "  </tbody>\n",
       "</table>\n",
       "</div>"
      ],
      "text/plain": [
       "Empty DataFrame\n",
       "Columns: [code, name, category, Annual, nYear, 3G2H, PE Value, EPS GR Value, Price A5, Price A10, Price B, Price, 52w low, 52w high, BVPS]\n",
       "Index: []"
      ]
     },
     "metadata": {},
     "output_type": "display_data"
    },
    {
     "data": {
      "text/html": [
       "<div>\n",
       "<style scoped>\n",
       "    .dataframe tbody tr th:only-of-type {\n",
       "        vertical-align: middle;\n",
       "    }\n",
       "\n",
       "    .dataframe tbody tr th {\n",
       "        vertical-align: top;\n",
       "    }\n",
       "\n",
       "    .dataframe thead th {\n",
       "        text-align: right;\n",
       "    }\n",
       "</style>\n",
       "<table border=\"1\" class=\"dataframe\">\n",
       "  <thead>\n",
       "    <tr style=\"text-align: right;\">\n",
       "      <th></th>\n",
       "      <th>P/E</th>\n",
       "      <th>EPS</th>\n",
       "      <th>EY</th>\n",
       "      <th>DPS</th>\n",
       "      <th>DY</th>\n",
       "      <th>ROE</th>\n",
       "      <th>ROE2</th>\n",
       "      <th>D/E</th>\n",
       "      <th>D/E2</th>\n",
       "      <th>NPM avg</th>\n",
       "      <th>P/E min</th>\n",
       "      <th>P/E max</th>\n",
       "      <th>P/E mid</th>\n",
       "      <th>P/E avg</th>\n",
       "      <th>EPS GR min</th>\n",
       "      <th>EY avg</th>\n",
       "      <th>EY std</th>\n",
       "      <th>EY 3Y avg</th>\n",
       "      <th>EY 5Y avg</th>\n",
       "      <th>EY 10Y avg</th>\n",
       "    </tr>\n",
       "  </thead>\n",
       "  <tbody>\n",
       "  </tbody>\n",
       "</table>\n",
       "</div>"
      ],
      "text/plain": [
       "Empty DataFrame\n",
       "Columns: [P/E, EPS, EY, DPS, DY, ROE, ROE2, D/E, D/E2, NPM avg, P/E min, P/E max, P/E mid, P/E avg, EPS GR min, EY avg, EY std, EY 3Y avg, EY 5Y avg, EY 10Y avg]\n",
       "Index: []"
      ]
     },
     "metadata": {},
     "output_type": "display_data"
    },
    {
     "data": {
      "text/html": [
       "<div>\n",
       "<style scoped>\n",
       "    .dataframe tbody tr th:only-of-type {\n",
       "        vertical-align: middle;\n",
       "    }\n",
       "\n",
       "    .dataframe tbody tr th {\n",
       "        vertical-align: top;\n",
       "    }\n",
       "\n",
       "    .dataframe thead th {\n",
       "        text-align: right;\n",
       "    }\n",
       "</style>\n",
       "<table border=\"1\" class=\"dataframe\">\n",
       "  <thead>\n",
       "    <tr style=\"text-align: right;\">\n",
       "      <th></th>\n",
       "      <th>DY avg</th>\n",
       "      <th>DY 3Y avg</th>\n",
       "      <th>DY 5Y avg</th>\n",
       "      <th>DY 10Y avg</th>\n",
       "      <th>DPayout avg</th>\n",
       "      <th>Revenue GR 3Y avg</th>\n",
       "      <th>Revenue GR 5Y avg</th>\n",
       "      <th>Revenue GR 10Y avg</th>\n",
       "      <th>NP GR 3Y avg</th>\n",
       "      <th>NP GR 5Y avg</th>\n",
       "      <th>NP GR 10Y avg</th>\n",
       "      <th>EPS GR 3Y avg</th>\n",
       "      <th>EPS GR 5Y avg</th>\n",
       "      <th>EPS GR 10Y avg</th>\n",
       "      <th>check NP</th>\n",
       "    </tr>\n",
       "  </thead>\n",
       "  <tbody>\n",
       "  </tbody>\n",
       "</table>\n",
       "</div>"
      ],
      "text/plain": [
       "Empty DataFrame\n",
       "Columns: [DY avg, DY 3Y avg, DY 5Y avg, DY 10Y avg, DPayout avg, Revenue GR 3Y avg, Revenue GR 5Y avg, Revenue GR 10Y avg, NP GR 3Y avg, NP GR 5Y avg, NP GR 10Y avg, EPS GR 3Y avg, EPS GR 5Y avg, EPS GR 10Y avg, check NP]\n",
       "Index: []"
      ]
     },
     "metadata": {},
     "output_type": "display_data"
    },
    {
     "data": {
      "text/html": [
       "<div>\n",
       "<style scoped>\n",
       "    .dataframe tbody tr th:only-of-type {\n",
       "        vertical-align: middle;\n",
       "    }\n",
       "\n",
       "    .dataframe tbody tr th {\n",
       "        vertical-align: top;\n",
       "    }\n",
       "\n",
       "    .dataframe thead th {\n",
       "        text-align: right;\n",
       "    }\n",
       "</style>\n",
       "<table border=\"1\" class=\"dataframe\">\n",
       "  <thead>\n",
       "    <tr style=\"text-align: right;\">\n",
       "      <th></th>\n",
       "      <th>check EPS GR</th>\n",
       "      <th>check OCF</th>\n",
       "      <th>neg Revenue GR</th>\n",
       "      <th>neg NP</th>\n",
       "      <th>neg EPS GR</th>\n",
       "      <th>neg OCF</th>\n",
       "      <th>Revenue start</th>\n",
       "      <th>Revenue end</th>\n",
       "      <th>EPS start</th>\n",
       "      <th>EPS end</th>\n",
       "      <th>OCF start</th>\n",
       "      <th>OCF end</th>\n",
       "      <th>intrinsic 3Y</th>\n",
       "      <th>intrinsic 5Y</th>\n",
       "      <th>intrinsic 10Y</th>\n",
       "    </tr>\n",
       "  </thead>\n",
       "  <tbody>\n",
       "  </tbody>\n",
       "</table>\n",
       "</div>"
      ],
      "text/plain": [
       "Empty DataFrame\n",
       "Columns: [check EPS GR, check OCF, neg Revenue GR, neg NP, neg EPS GR, neg OCF, Revenue start, Revenue end, EPS start, EPS end, OCF start, OCF end, intrinsic 3Y, intrinsic 5Y, intrinsic 10Y]\n",
       "Index: []"
      ]
     },
     "metadata": {},
     "output_type": "display_data"
    },
    {
     "data": {
      "text/html": [
       "<div>\n",
       "<style scoped>\n",
       "    .dataframe tbody tr th:only-of-type {\n",
       "        vertical-align: middle;\n",
       "    }\n",
       "\n",
       "    .dataframe tbody tr th {\n",
       "        vertical-align: top;\n",
       "    }\n",
       "\n",
       "    .dataframe thead th {\n",
       "        text-align: right;\n",
       "    }\n",
       "</style>\n",
       "<table border=\"1\" class=\"dataframe\">\n",
       "  <thead>\n",
       "    <tr style=\"text-align: right;\">\n",
       "      <th></th>\n",
       "      <th>Price A3</th>\n",
       "      <th>EY level</th>\n",
       "      <th>DY level</th>\n",
       "      <th>Revenue Growth</th>\n",
       "      <th>EPS Growth</th>\n",
       "      <th>OCF Growth</th>\n",
       "      <th>ROE Health</th>\n",
       "      <th>D/E Health</th>\n",
       "    </tr>\n",
       "  </thead>\n",
       "  <tbody>\n",
       "  </tbody>\n",
       "</table>\n",
       "</div>"
      ],
      "text/plain": [
       "Empty DataFrame\n",
       "Columns: [Price A3, EY level, DY level, Revenue Growth, EPS Growth, OCF Growth, ROE Health, D/E Health]\n",
       "Index: []"
      ]
     },
     "metadata": {},
     "output_type": "display_data"
    }
   ],
   "source": [
    "display(final[final.code=='5398'].iloc[:,:15])\n",
    "display(final[final.code=='5398'].iloc[:,15:35])\n",
    "display(final[final.code=='5398'].iloc[:,35:50])\n",
    "display(final[final.code=='5398'].iloc[:,50:65])\n",
    "display(final[final.code=='5398'].iloc[:,65:])"
   ]
  },
  {
   "cell_type": "code",
   "execution_count": null,
   "metadata": {},
   "outputs": [],
   "source": []
  }
 ],
 "metadata": {
  "kernelspec": {
   "display_name": "Python 3",
   "language": "python",
   "name": "python3"
  },
  "language_info": {
   "codemirror_mode": {
    "name": "ipython",
    "version": 3
   },
   "file_extension": ".py",
   "mimetype": "text/x-python",
   "name": "python",
   "nbconvert_exporter": "python",
   "pygments_lexer": "ipython3",
   "version": "3.6.9"
  }
 },
 "nbformat": 4,
 "nbformat_minor": 2
}
